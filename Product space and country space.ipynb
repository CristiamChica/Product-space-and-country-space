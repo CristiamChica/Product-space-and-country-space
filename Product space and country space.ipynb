{
 "cells": [
  {
   "cell_type": "markdown",
   "metadata": {},
   "source": [
    "$$\\huge\\textbf{Implied Comparative Advantage - Offshoring}$$"
   ]
  },
  {
   "cell_type": "code",
   "execution_count": 21,
   "metadata": {
    "collapsed": true
   },
   "outputs": [],
   "source": [
    "import warnings\n",
    "warnings.filterwarnings('ignore')\n",
    "import numpy as np\n",
    "import pandas as pd\n",
    "\n",
    "import time, math\n",
    "import matplotlib.mlab as mlab\n",
    "from sklearn import datasets, linear_model\n",
    "from sklearn.metrics import mean_squared_error, r2_score\n",
    "import statsmodels.api as sm\n",
    "from statsmodels.stats.anova import anova_lm\n",
    "from statsmodels.iolib.summary2 import summary_col\n",
    "from IPython.display import clear_output\n",
    "\n",
    "import seaborn as sns\n",
    "sns.set(color_codes=True)\n",
    "import matplotlib.pyplot as plt"
   ]
  },
  {
   "cell_type": "markdown",
   "metadata": {},
   "source": [
    "$\\textbf{Basic inputs}$"
   ]
  },
  {
   "cell_type": "code",
   "execution_count": 22,
   "metadata": {
    "collapsed": true
   },
   "outputs": [],
   "source": [
    "bad = ['Dem. Rep. of the Congo','Kuwait','Algeria','Saudi Arabia','United Arab Emirates',\n",
    "       'Angola','Azerbaijan','Curaçao',]\n",
    "Países = ['Brunei Darussalam', 'Peru', 'Greece', 'Slovakia', 'Thailand', 'Denmark', 'Austria', 'Slovenia', \n",
    "          'Finland', 'Belgium', 'Germany', 'Spain', 'Korea', 'Philippines', 'Hungary', 'Viet Nam', 'South Africa',\n",
    "          'Brazil', 'Argentina', 'India', 'Lithuania', 'United Kingdom', 'Canada', 'Netherlands', \n",
    "          'Russian Federation', 'Poland', 'Italy', 'Colombia', 'Mexico', 'Cambodia', 'Switzerland', 'Morocco', \n",
    "          'Norway', 'Japan', 'Croatia', 'Luxembourg', 'Tunisia', 'Turkey', 'USA', 'Czechia', 'Sweden', 'Latvia',\n",
    "          'Malta', 'Singapore', 'Bulgaria', 'Portugal', 'Iceland', 'Romania', 'Saudi Arabia', 'Chile', 'Estonia', \n",
    "          'France', 'China, Hong Kong SAR', 'China', 'Australia', 'Ireland', 'New Zealand', 'Malaysia', \n",
    "          'Costa Rica', 'Indonesia', 'Cyprus', 'Israel']\n",
    "\n",
    "Developed=['Austria','Belgium','Denmark','Finland','France','Germany','Greece','Ireland','Italy','Luxembourg',\n",
    "'Netherlands','Portugal','Spain','Sweden','United Kingdom','Bulgaria','Croatia','Cyprus','Czechia','Estonia',\n",
    "'Hungary','Latvia','Lithuania','Malta','Poland','Romania','Slovakia','Slovenia','Iceland','Norway','Switzerland',\n",
    "'Australia','Canada','Japan','New Zealand','USA']\n",
    "\n",
    "Nondevel=[t for t in Países if t not in Developed]\n",
    "\n",
    "industries = [i for i in range(1,35)]\n",
    "pop_cols = ['Country Name'] + [str(t) for t in range(1995,2012)]\n",
    "\n",
    "names = industries.copy()\n",
    "names.insert(0,'Países\\Industrias')"
   ]
  },
  {
   "cell_type": "code",
   "execution_count": 23,
   "metadata": {
    "collapsed": true
   },
   "outputs": [],
   "source": [
    "dir1 = '...'\n",
    "dir2 = '...'"
   ]
  },
  {
   "cell_type": "markdown",
   "metadata": {},
   "source": [
    "$\\textbf{Basic functions}$"
   ]
  },
  {
   "cell_type": "code",
   "execution_count": 24,
   "metadata": {
    "collapsed": true
   },
   "outputs": [],
   "source": [
    "def multiply(a, b):\n",
    "    return [ a[l]*b[l] for l in range(len(a))]\n",
    "def index_error(off):\n",
    "    try:\n",
    "        off.set_index('Países\\Industrias', inplace = True)\n",
    "    except KeyError:\n",
    "        pass"
   ]
  },
  {
   "cell_type": "code",
   "execution_count": 25,
   "metadata": {
    "collapsed": true
   },
   "outputs": [],
   "source": [
    "def open_f(year):\n",
    "    global panel\n",
    "    panel = pd.read_excel(dir1+'panel' + str(year)  + '.xlsx')\n",
    "    panel = panel[ panel['Países\\Industrias'].isin(pop['Country Name']) ]\n",
    "\n",
    "pop = pd.read_excel(dir1 + 'World_pop.xls', skiprows=3)[pop_cols]"
   ]
  },
  {
   "cell_type": "code",
   "execution_count": 7,
   "metadata": {},
   "outputs": [
    {
     "name": "stdout",
     "output_type": "stream",
     "text": [
      "set()\n"
     ]
    }
   ],
   "source": [
    "# No usar\n",
    "au = []\n",
    "for y in range(1995,2012):\n",
    "    open_f(y)\n",
    "    au.extend([t for t in panel['Importer'] if t not in list(pop['Country Name'])])\n",
    "    au.extend([t for t in panel['Países\\Industrias'] if t not in list(pop['Country Name'])])\n",
    "m = set(au)\n",
    "print(m)"
   ]
  },
  {
   "cell_type": "markdown",
   "metadata": {},
   "source": [
    "$\\huge\\textbf{Product Space}$"
   ]
  },
  {
   "cell_type": "markdown",
   "metadata": {},
   "source": [
    "$\\textbf{Industry similarities}$"
   ]
  },
  {
   "cell_type": "markdown",
   "metadata": {},
   "source": [
    "$*$ We have to normalize the data by population, for some reason later defined functions stop working when we do this. \n",
    "Check it out this later"
   ]
  },
  {
   "cell_type": "code",
   "execution_count": 6,
   "metadata": {
    "collapsed": true
   },
   "outputs": [],
   "source": [
    "def normalize_pop():\n",
    "    global off\n",
    "    off = off.sort_values(by = ['Países\\Industrias'] , ascending = True )\n",
    "\n",
    "    pop_sub = pop[pop['Country Name'].isin(off[off.columns[0]])]\n",
    "    pop_sub = pop_sub.sort_values(by = ['Country Name'] , ascending = True )\n",
    "    s_pop_l = pop[year].sum()\n",
    "\n",
    "    for i in off.columns[1:]:\n",
    "        W_i = pop_sub[year]*(off[i].sum()/s_pop_l)\n",
    "        off[i] = off[i]/list(W_i)"
   ]
  },
  {
   "cell_type": "markdown",
   "metadata": {},
   "source": [
    "$*$ With this function we construct the similarities matrices using correlation per industry. There are two inputs with the following specifications: (origin, ) = group by origin and (destination, ) = group by destination. Additionally, (country, destination) = country of origin vs rest of the world and (country, else) = All importer vs country. "
   ]
  },
  {
   "cell_type": "code",
   "execution_count": 6,
   "metadata": {
    "collapsed": true
   },
   "outputs": [],
   "source": [
    "def filter_panel(country, ori_dest):\n",
    "    global off\n",
    "    \n",
    "    if country == 'origin':\n",
    "        off = panel.groupby(['Importer'], as_index=False).agg({i: 'sum' for i in range(1,35)})\n",
    "    elif country == 'destination':\n",
    "        off = panel.groupby(['Países\\Industrias'], as_index=False).agg({i: 'sum' for i in range(1,35)}) #1\n",
    "    else:\n",
    "        if ori_dest == 'destination':\n",
    "            off = panel[panel['Importer'] == country]\n",
    "            off = off.drop(['Importer'], axis = 1)\n",
    "        else:\n",
    "            off = panel[panel['Países\\Industrias'] == country]\n",
    "            off = off.drop(['Países\\Industrias'], axis = 1)\n",
    "    \n",
    "    off.columns = ['Países\\Industrias'] + [i for i in range(1,35)]\n",
    "    \n",
    "    off = off[ (off[[i for i in range(1,35)]].T!= 0).any() ]  #2\n",
    "\n",
    "def sim_industry_f():    \n",
    "    global sim_industry , k\n",
    "    \n",
    "    sim_industry , k = pd.DataFrame() , 5\n",
    "    sim_industry['Industry'] = pd.Series(industries)\n",
    "\n",
    "    for code1 in industries:\n",
    "        col1 , au = off[code1] , []\n",
    "        for code2 in industries:\n",
    "            col2 = off[code2]\n",
    "            au.append( (1+np.corrcoef(col1 , col2)[0][1])/2 ) \n",
    "        sim_industry[code1] = pd.Series(au)\n",
    "    sim_industry = sim_industry.fillna(0)\n",
    "    return sim_industry.head()"
   ]
  },
  {
   "cell_type": "markdown",
   "metadata": {},
   "source": [
    "$#1$ Recordar filtrar en algo punto por todos aquellos países que sí sean comunes a todos los importadores $$$$\n",
    "$#2$ Líneas extra: normalize_pop(), k = math.ceil(len(off)*2/7)"
   ]
  },
  {
   "cell_type": "markdown",
   "metadata": {},
   "source": [
    "$\\textbf{k-nearest neighbours}$"
   ]
  },
  {
   "cell_type": "markdown",
   "metadata": {},
   "source": [
    "$*$ We obtain the k nearest neighbours, for industries we are using k = 5"
   ]
  },
  {
   "cell_type": "code",
   "execution_count": 7,
   "metadata": {
    "collapsed": true
   },
   "outputs": [],
   "source": [
    "def nearest_neigh(similarities ,k , codes ):\n",
    "    global weights , selected_codes\n",
    "    weights , selected_codes = {} , {}\n",
    "    for code in codes:\n",
    "        d = similarities[[similarities.columns[0] ,code ]].sort_values(by = [code], ascending = False )\n",
    "        d = d[d[similarities.columns[0]] != code ]\n",
    "        d = d[:k]\n",
    "        d[[code]] = d[[code]]/d[code].sum()\n",
    "        d = d.fillna(0)\n",
    "        selected_codes[code] , weights[code] =  list(d[similarities.columns[0]]) , list(d[code])\n",
    "        selected_codes[code].insert(0, 'Países\\Industrias')"
   ]
  },
  {
   "cell_type": "code",
   "execution_count": 8,
   "metadata": {
    "collapsed": true
   },
   "outputs": [],
   "source": [
    "def Y_ij_gorro_I(off):\n",
    "    global final\n",
    "    final = { 'out': pd.DataFrame(), 'in': off.copy() } \n",
    "    states =  list(final['in']['Países\\Industrias'])\n",
    "    for n in names:\n",
    "        final['out'][n] = pd.Series([])\n",
    "    final['out']['Países\\Industrias'] = pd.Series(states)\n",
    "    \n",
    "    for code in industries:\n",
    "        data , au_code = final['in'] , []\n",
    "        data = data[ selected_codes[code] ]\n",
    "                \n",
    "        for s in states:\n",
    "            m = list(data[data['Países\\Industrias'] == s].values[0][1:])\n",
    "            au_code.append( sum(multiply(m, weights[code])) )\n",
    "        final['out'][code] = pd.Series( au_code )\n",
    "    \n",
    "    return final['out'].head()"
   ]
  },
  {
   "cell_type": "markdown",
   "metadata": {},
   "source": [
    "$*$ Results:"
   ]
  },
  {
   "cell_type": "code",
   "execution_count": 158,
   "metadata": {},
   "outputs": [
    {
     "data": {
      "text/html": [
       "<div>\n",
       "<style>\n",
       "    .dataframe thead tr:only-child th {\n",
       "        text-align: right;\n",
       "    }\n",
       "\n",
       "    .dataframe thead th {\n",
       "        text-align: left;\n",
       "    }\n",
       "\n",
       "    .dataframe tbody tr th {\n",
       "        vertical-align: top;\n",
       "    }\n",
       "</style>\n",
       "<table border=\"1\" class=\"dataframe\">\n",
       "  <thead>\n",
       "    <tr style=\"text-align: right;\">\n",
       "      <th></th>\n",
       "      <th>Países\\Industrias</th>\n",
       "      <th>1</th>\n",
       "      <th>2</th>\n",
       "      <th>3</th>\n",
       "      <th>4</th>\n",
       "      <th>5</th>\n",
       "      <th>6</th>\n",
       "      <th>7</th>\n",
       "      <th>8</th>\n",
       "      <th>9</th>\n",
       "      <th>...</th>\n",
       "      <th>25</th>\n",
       "      <th>26</th>\n",
       "      <th>27</th>\n",
       "      <th>28</th>\n",
       "      <th>29</th>\n",
       "      <th>30</th>\n",
       "      <th>31</th>\n",
       "      <th>32</th>\n",
       "      <th>33</th>\n",
       "      <th>34</th>\n",
       "    </tr>\n",
       "  </thead>\n",
       "  <tbody>\n",
       "    <tr>\n",
       "      <th>0</th>\n",
       "      <td>Zimbabwe</td>\n",
       "      <td>4.472633e+00</td>\n",
       "      <td>3.695524e+00</td>\n",
       "      <td>1.050743e+00</td>\n",
       "      <td>1.769436e+01</td>\n",
       "      <td>1.511124e+02</td>\n",
       "      <td>3.112894e+00</td>\n",
       "      <td>8.949689e-01</td>\n",
       "      <td>2.004070e+01</td>\n",
       "      <td>2.042091e+01</td>\n",
       "      <td>...</td>\n",
       "      <td>1.354444e+02</td>\n",
       "      <td>1.217029e+01</td>\n",
       "      <td>1.222738e+01</td>\n",
       "      <td>1.216277e+01</td>\n",
       "      <td>1.217131e+01</td>\n",
       "      <td>5.874619e+00</td>\n",
       "      <td>1.209693e+01</td>\n",
       "      <td>2.188750e+01</td>\n",
       "      <td>1.321625e+00</td>\n",
       "      <td>0.0</td>\n",
       "    </tr>\n",
       "    <tr>\n",
       "      <th>1</th>\n",
       "      <td>Russian Federation</td>\n",
       "      <td>4.042366e+06</td>\n",
       "      <td>4.601879e+06</td>\n",
       "      <td>3.144183e+06</td>\n",
       "      <td>3.841700e+06</td>\n",
       "      <td>3.867045e+06</td>\n",
       "      <td>2.938567e+06</td>\n",
       "      <td>2.813130e+06</td>\n",
       "      <td>3.622367e+06</td>\n",
       "      <td>4.770569e+06</td>\n",
       "      <td>...</td>\n",
       "      <td>7.012136e+06</td>\n",
       "      <td>1.356473e+05</td>\n",
       "      <td>4.641196e+05</td>\n",
       "      <td>1.346232e+05</td>\n",
       "      <td>9.378928e+04</td>\n",
       "      <td>1.537887e+06</td>\n",
       "      <td>4.134956e+05</td>\n",
       "      <td>1.818308e+06</td>\n",
       "      <td>6.668311e+05</td>\n",
       "      <td>0.0</td>\n",
       "    </tr>\n",
       "    <tr>\n",
       "      <th>2</th>\n",
       "      <td>USA</td>\n",
       "      <td>2.105263e+08</td>\n",
       "      <td>2.763325e+08</td>\n",
       "      <td>1.446259e+08</td>\n",
       "      <td>2.799729e+08</td>\n",
       "      <td>1.735943e+08</td>\n",
       "      <td>2.637112e+08</td>\n",
       "      <td>2.711903e+08</td>\n",
       "      <td>1.783008e+08</td>\n",
       "      <td>2.224358e+08</td>\n",
       "      <td>...</td>\n",
       "      <td>1.661356e+08</td>\n",
       "      <td>5.669450e+07</td>\n",
       "      <td>7.016337e+07</td>\n",
       "      <td>5.284315e+07</td>\n",
       "      <td>4.564052e+07</td>\n",
       "      <td>1.484394e+08</td>\n",
       "      <td>8.069019e+07</td>\n",
       "      <td>1.493002e+08</td>\n",
       "      <td>1.219086e+08</td>\n",
       "      <td>0.0</td>\n",
       "    </tr>\n",
       "    <tr>\n",
       "      <th>3</th>\n",
       "      <td>Comoros</td>\n",
       "      <td>2.219837e+01</td>\n",
       "      <td>1.834146e+01</td>\n",
       "      <td>5.215001e+00</td>\n",
       "      <td>8.781982e+01</td>\n",
       "      <td>7.499941e+02</td>\n",
       "      <td>1.544977e+01</td>\n",
       "      <td>4.441869e+00</td>\n",
       "      <td>9.946510e+01</td>\n",
       "      <td>1.013521e+02</td>\n",
       "      <td>...</td>\n",
       "      <td>6.722312e+02</td>\n",
       "      <td>6.040301e+01</td>\n",
       "      <td>6.068635e+01</td>\n",
       "      <td>6.036568e+01</td>\n",
       "      <td>6.040810e+01</td>\n",
       "      <td>2.915664e+01</td>\n",
       "      <td>6.003892e+01</td>\n",
       "      <td>1.086310e+02</td>\n",
       "      <td>6.559427e+00</td>\n",
       "      <td>0.0</td>\n",
       "    </tr>\n",
       "    <tr>\n",
       "      <th>4</th>\n",
       "      <td>Viet Nam</td>\n",
       "      <td>2.382750e+04</td>\n",
       "      <td>2.929460e+04</td>\n",
       "      <td>1.682787e+04</td>\n",
       "      <td>2.395588e+04</td>\n",
       "      <td>3.859654e+04</td>\n",
       "      <td>2.042402e+04</td>\n",
       "      <td>1.623530e+04</td>\n",
       "      <td>2.891785e+04</td>\n",
       "      <td>3.332395e+04</td>\n",
       "      <td>...</td>\n",
       "      <td>4.642164e+04</td>\n",
       "      <td>1.081481e+04</td>\n",
       "      <td>1.230200e+04</td>\n",
       "      <td>1.082073e+04</td>\n",
       "      <td>9.673913e+03</td>\n",
       "      <td>1.432519e+04</td>\n",
       "      <td>1.240170e+04</td>\n",
       "      <td>2.036707e+04</td>\n",
       "      <td>6.843024e+03</td>\n",
       "      <td>0.0</td>\n",
       "    </tr>\n",
       "  </tbody>\n",
       "</table>\n",
       "<p>5 rows × 35 columns</p>\n",
       "</div>"
      ],
      "text/plain": [
       "    Países\\Industrias             1             2             3             4  \\\n",
       "0            Zimbabwe  4.472633e+00  3.695524e+00  1.050743e+00  1.769436e+01   \n",
       "1  Russian Federation  4.042366e+06  4.601879e+06  3.144183e+06  3.841700e+06   \n",
       "2                 USA  2.105263e+08  2.763325e+08  1.446259e+08  2.799729e+08   \n",
       "3             Comoros  2.219837e+01  1.834146e+01  5.215001e+00  8.781982e+01   \n",
       "4            Viet Nam  2.382750e+04  2.929460e+04  1.682787e+04  2.395588e+04   \n",
       "\n",
       "              5             6             7             8             9 ...   \\\n",
       "0  1.511124e+02  3.112894e+00  8.949689e-01  2.004070e+01  2.042091e+01 ...    \n",
       "1  3.867045e+06  2.938567e+06  2.813130e+06  3.622367e+06  4.770569e+06 ...    \n",
       "2  1.735943e+08  2.637112e+08  2.711903e+08  1.783008e+08  2.224358e+08 ...    \n",
       "3  7.499941e+02  1.544977e+01  4.441869e+00  9.946510e+01  1.013521e+02 ...    \n",
       "4  3.859654e+04  2.042402e+04  1.623530e+04  2.891785e+04  3.332395e+04 ...    \n",
       "\n",
       "             25            26            27            28            29  \\\n",
       "0  1.354444e+02  1.217029e+01  1.222738e+01  1.216277e+01  1.217131e+01   \n",
       "1  7.012136e+06  1.356473e+05  4.641196e+05  1.346232e+05  9.378928e+04   \n",
       "2  1.661356e+08  5.669450e+07  7.016337e+07  5.284315e+07  4.564052e+07   \n",
       "3  6.722312e+02  6.040301e+01  6.068635e+01  6.036568e+01  6.040810e+01   \n",
       "4  4.642164e+04  1.081481e+04  1.230200e+04  1.082073e+04  9.673913e+03   \n",
       "\n",
       "             30            31            32            33   34  \n",
       "0  5.874619e+00  1.209693e+01  2.188750e+01  1.321625e+00  0.0  \n",
       "1  1.537887e+06  4.134956e+05  1.818308e+06  6.668311e+05  0.0  \n",
       "2  1.484394e+08  8.069019e+07  1.493002e+08  1.219086e+08  0.0  \n",
       "3  2.915664e+01  6.003892e+01  1.086310e+02  6.559427e+00  0.0  \n",
       "4  1.432519e+04  1.240170e+04  2.036707e+04  6.843024e+03  0.0  \n",
       "\n",
       "[5 rows x 35 columns]"
      ]
     },
     "execution_count": 158,
     "metadata": {},
     "output_type": "execute_result"
    }
   ],
   "source": [
    "year = '1995'\n",
    "open_f(year)\n",
    "filter_panel('Colombia', 'destination')\n",
    "sim_industry_f()\n",
    "nearest_neigh(sim_industry , k , industries)\n",
    "Y_ij_gorro_I(off)"
   ]
  },
  {
   "cell_type": "markdown",
   "metadata": {},
   "source": [
    "$*$ The following functions are meant to put together the output of the previous functions, in order to build panel data."
   ]
  },
  {
   "cell_type": "code",
   "execution_count": 9,
   "metadata": {
    "collapsed": true
   },
   "outputs": [],
   "source": [
    "panel_est = pd.DataFrame()\n",
    "def add_col_country(final, country):\n",
    "    global au\n",
    "    au = pd.DataFrame({'Importer': [country for t in range(len(final))] })\n",
    "    au = pd.concat([au , final], axis = 1 )\n",
    "    \n",
    "panel_est_time = pd.DataFrame()\n",
    "def add_col_year(panel_est, year):\n",
    "    au2 = [year for t in range(len(panel_est))]\n",
    "    panel_est.insert(0, 'Year' , au2 )"
   ]
  },
  {
   "cell_type": "markdown",
   "metadata": {},
   "source": [
    "$*$ With the following cell we calculate $\\hat{Y}^{[I]}_{ij}$ for each (country, destination) and build a new panel."
   ]
  },
  {
   "cell_type": "code",
   "execution_count": 96,
   "metadata": {
    "collapsed": true
   },
   "outputs": [],
   "source": [
    "panel_est_time = pd.DataFrame()\n",
    "for year in range(1995,2012):\n",
    "    panel_est = pd.DataFrame()\n",
    "    open_f( year )\n",
    "    \n",
    "    for c in Países:\n",
    "        filter_panel( c , 'destination' )\n",
    "        sim_industry_f()\n",
    "        nearest_neigh(sim_industry , k , industries)\n",
    "        Y_ij_gorro_I(off)                                #off for each country c                \n",
    "        add_col_country(final['out'], c)                 #adjoint a new column\n",
    "        panel_est = panel_est.append(au)                 #append it to file. \n",
    "    \n",
    "    add_col_year(panel_est , year)\n",
    "    panel_est_time = panel_est_time.append(panel_est)\n",
    "\n",
    "panel_est_time.to_excel(dir1 + 'panel_implied_ind.xlsx', index = False )"
   ]
  },
  {
   "cell_type": "code",
   "execution_count": null,
   "metadata": {
    "collapsed": true
   },
   "outputs": [],
   "source": [
    "#No usar\n",
    "for i in range(100):\n",
    "    clear_output()\n",
    "    print(i)\n",
    "    Y_ij_gorro(final['out'])"
   ]
  },
  {
   "cell_type": "markdown",
   "metadata": {},
   "source": [
    "$\\huge\\textbf{Country Space}$"
   ]
  },
  {
   "cell_type": "markdown",
   "metadata": {},
   "source": [
    "$\\textbf{Country similarities}$"
   ]
  },
  {
   "cell_type": "code",
   "execution_count": 10,
   "metadata": {
    "collapsed": true
   },
   "outputs": [],
   "source": [
    "def sim_country_f():    \n",
    "    global sim_country , k , codes , off_c\n",
    "    \n",
    "    index_error(off)\n",
    "    off_c = off.transpose()\n",
    "    sim_country , k , codes = pd.DataFrame() , math.ceil(len(off)*0.25) , list(off_c.columns.copy())\n",
    "    sim_country['Country'] = pd.Series(codes)\n",
    "    off_c.insert(0, 'Países\\Industrias' , off_c.index )\n",
    "\n",
    "    for code1 in codes:\n",
    "        col1 , au = off_c[code1] , []\n",
    "        for code2 in codes:\n",
    "            col2 = off_c[code2]\n",
    "            au.append( (1+np.corrcoef(col1 , col2)[0][1])/2 ) \n",
    "        sim_country[code1] = pd.Series(au)\n",
    "    sim_country = sim_country.fillna(0)\n",
    "    return sim_country.head()"
   ]
  },
  {
   "cell_type": "code",
   "execution_count": 11,
   "metadata": {
    "collapsed": true
   },
   "outputs": [],
   "source": [
    "def Y_ij_gorro_L(off):\n",
    "    global final2\n",
    "    final2 = { 'out': pd.DataFrame(), 'in': off.copy() } \n",
    "    ind =  list(final2['in']['Países\\Industrias'])\n",
    "    for n in ['Países\\Industrias'] + codes:\n",
    "        final2['out'][n] = pd.Series([])\n",
    "    final2['out']['Países\\Industrias'] = pd.Series(ind)\n",
    "    \n",
    "    for code in codes:\n",
    "        data , au_code = final2['in'] , []\n",
    "        data = data[ selected_codes[code] ]\n",
    "                \n",
    "        for s in ind:\n",
    "            m = list(data[data['Países\\Industrias'] == s].values[0][1:])\n",
    "            au_code.append( sum(multiply(m, weights[code])) )\n",
    "        final2['out'][code] = pd.Series( au_code )\n",
    "    \n",
    "    for dframe_name in final2.keys():\n",
    "        index_error(final2[ dframe_name ])\n",
    "        final2[ dframe_name ] = final2[ dframe_name ].transpose()\n",
    "        final2[ dframe_name ].insert(0, 'Países\\Industrias' , final2[ dframe_name ].index )\n",
    "        final2['out'] = final2['out'].reset_index(drop=True)\n",
    "    return final2['out'].head()"
   ]
  },
  {
   "cell_type": "code",
   "execution_count": 98,
   "metadata": {
    "collapsed": true
   },
   "outputs": [],
   "source": [
    "year = '1995'\n",
    "open_f(year)"
   ]
  },
  {
   "cell_type": "markdown",
   "metadata": {},
   "source": [
    "$*$ Results:"
   ]
  },
  {
   "cell_type": "code",
   "execution_count": 159,
   "metadata": {},
   "outputs": [
    {
     "data": {
      "text/html": [
       "<div>\n",
       "<style>\n",
       "    .dataframe thead tr:only-child th {\n",
       "        text-align: right;\n",
       "    }\n",
       "\n",
       "    .dataframe thead th {\n",
       "        text-align: left;\n",
       "    }\n",
       "\n",
       "    .dataframe tbody tr th {\n",
       "        vertical-align: top;\n",
       "    }\n",
       "</style>\n",
       "<table border=\"1\" class=\"dataframe\">\n",
       "  <thead>\n",
       "    <tr style=\"text-align: right;\">\n",
       "      <th>Países\\Industrias</th>\n",
       "      <th>Países\\Industrias</th>\n",
       "      <th>1</th>\n",
       "      <th>2</th>\n",
       "      <th>3</th>\n",
       "      <th>4</th>\n",
       "      <th>5</th>\n",
       "      <th>6</th>\n",
       "      <th>7</th>\n",
       "      <th>8</th>\n",
       "      <th>9</th>\n",
       "      <th>...</th>\n",
       "      <th>25</th>\n",
       "      <th>26</th>\n",
       "      <th>27</th>\n",
       "      <th>28</th>\n",
       "      <th>29</th>\n",
       "      <th>30</th>\n",
       "      <th>31</th>\n",
       "      <th>32</th>\n",
       "      <th>33</th>\n",
       "      <th>34</th>\n",
       "    </tr>\n",
       "  </thead>\n",
       "  <tbody>\n",
       "    <tr>\n",
       "      <th>0</th>\n",
       "      <td>Zimbabwe</td>\n",
       "      <td>1.895424e+05</td>\n",
       "      <td>8.964015e+04</td>\n",
       "      <td>5.362214e+05</td>\n",
       "      <td>1.205915e+05</td>\n",
       "      <td>23407.412158</td>\n",
       "      <td>1.506702e+05</td>\n",
       "      <td>1.271810e+05</td>\n",
       "      <td>3.197445e+05</td>\n",
       "      <td>1.264251e+05</td>\n",
       "      <td>...</td>\n",
       "      <td>2.540932e+04</td>\n",
       "      <td>3968.023768</td>\n",
       "      <td>564.387987</td>\n",
       "      <td>15052.563922</td>\n",
       "      <td>3.777632e+04</td>\n",
       "      <td>1.281562e+05</td>\n",
       "      <td>16862.448577</td>\n",
       "      <td>1.235103e+05</td>\n",
       "      <td>4.370345e+04</td>\n",
       "      <td>0.0</td>\n",
       "    </tr>\n",
       "    <tr>\n",
       "      <th>1</th>\n",
       "      <td>Russian Federation</td>\n",
       "      <td>4.376840e+06</td>\n",
       "      <td>3.830979e+06</td>\n",
       "      <td>8.784224e+06</td>\n",
       "      <td>2.866967e+06</td>\n",
       "      <td>654450.762341</td>\n",
       "      <td>3.950083e+06</td>\n",
       "      <td>3.830432e+06</td>\n",
       "      <td>9.672354e+06</td>\n",
       "      <td>3.994695e+06</td>\n",
       "      <td>...</td>\n",
       "      <td>9.267873e+05</td>\n",
       "      <td>106891.303804</td>\n",
       "      <td>4831.610480</td>\n",
       "      <td>307617.788848</td>\n",
       "      <td>1.034717e+06</td>\n",
       "      <td>3.006292e+06</td>\n",
       "      <td>407720.309173</td>\n",
       "      <td>3.101008e+06</td>\n",
       "      <td>9.962087e+05</td>\n",
       "      <td>0.0</td>\n",
       "    </tr>\n",
       "    <tr>\n",
       "      <th>2</th>\n",
       "      <td>USA</td>\n",
       "      <td>6.750241e+06</td>\n",
       "      <td>6.547851e+06</td>\n",
       "      <td>1.202122e+07</td>\n",
       "      <td>5.097675e+06</td>\n",
       "      <td>631384.043084</td>\n",
       "      <td>7.171293e+06</td>\n",
       "      <td>7.711071e+06</td>\n",
       "      <td>1.456923e+07</td>\n",
       "      <td>6.156675e+06</td>\n",
       "      <td>...</td>\n",
       "      <td>1.230898e+06</td>\n",
       "      <td>244046.678855</td>\n",
       "      <td>9487.115281</td>\n",
       "      <td>792653.176325</td>\n",
       "      <td>2.039498e+06</td>\n",
       "      <td>6.456909e+06</td>\n",
       "      <td>819538.009819</td>\n",
       "      <td>5.966200e+06</td>\n",
       "      <td>2.137653e+06</td>\n",
       "      <td>0.0</td>\n",
       "    </tr>\n",
       "    <tr>\n",
       "      <th>3</th>\n",
       "      <td>Comoros</td>\n",
       "      <td>1.895297e+05</td>\n",
       "      <td>8.964012e+04</td>\n",
       "      <td>5.361172e+05</td>\n",
       "      <td>1.205894e+05</td>\n",
       "      <td>23404.726980</td>\n",
       "      <td>1.506696e+05</td>\n",
       "      <td>1.271810e+05</td>\n",
       "      <td>3.197441e+05</td>\n",
       "      <td>1.264250e+05</td>\n",
       "      <td>...</td>\n",
       "      <td>2.540932e+04</td>\n",
       "      <td>3968.023768</td>\n",
       "      <td>564.387987</td>\n",
       "      <td>15052.563922</td>\n",
       "      <td>3.777632e+04</td>\n",
       "      <td>1.281552e+05</td>\n",
       "      <td>16862.388236</td>\n",
       "      <td>1.235100e+05</td>\n",
       "      <td>4.370188e+04</td>\n",
       "      <td>0.0</td>\n",
       "    </tr>\n",
       "    <tr>\n",
       "      <th>4</th>\n",
       "      <td>Viet Nam</td>\n",
       "      <td>4.417030e+06</td>\n",
       "      <td>3.956543e+06</td>\n",
       "      <td>9.043206e+06</td>\n",
       "      <td>2.901176e+06</td>\n",
       "      <td>664216.802147</td>\n",
       "      <td>4.004944e+06</td>\n",
       "      <td>3.804012e+06</td>\n",
       "      <td>9.840294e+06</td>\n",
       "      <td>4.075294e+06</td>\n",
       "      <td>...</td>\n",
       "      <td>9.699426e+05</td>\n",
       "      <td>106361.604865</td>\n",
       "      <td>4829.074854</td>\n",
       "      <td>306553.399333</td>\n",
       "      <td>1.037231e+06</td>\n",
       "      <td>3.036434e+06</td>\n",
       "      <td>409724.619992</td>\n",
       "      <td>3.110573e+06</td>\n",
       "      <td>9.966347e+05</td>\n",
       "      <td>0.0</td>\n",
       "    </tr>\n",
       "  </tbody>\n",
       "</table>\n",
       "<p>5 rows × 35 columns</p>\n",
       "</div>"
      ],
      "text/plain": [
       "Países\\Industrias   Países\\Industrias             1             2  \\\n",
       "0                            Zimbabwe  1.895424e+05  8.964015e+04   \n",
       "1                  Russian Federation  4.376840e+06  3.830979e+06   \n",
       "2                                 USA  6.750241e+06  6.547851e+06   \n",
       "3                             Comoros  1.895297e+05  8.964012e+04   \n",
       "4                            Viet Nam  4.417030e+06  3.956543e+06   \n",
       "\n",
       "Países\\Industrias             3             4              5             6  \\\n",
       "0                  5.362214e+05  1.205915e+05   23407.412158  1.506702e+05   \n",
       "1                  8.784224e+06  2.866967e+06  654450.762341  3.950083e+06   \n",
       "2                  1.202122e+07  5.097675e+06  631384.043084  7.171293e+06   \n",
       "3                  5.361172e+05  1.205894e+05   23404.726980  1.506696e+05   \n",
       "4                  9.043206e+06  2.901176e+06  664216.802147  4.004944e+06   \n",
       "\n",
       "Países\\Industrias             7             8             9 ...   \\\n",
       "0                  1.271810e+05  3.197445e+05  1.264251e+05 ...    \n",
       "1                  3.830432e+06  9.672354e+06  3.994695e+06 ...    \n",
       "2                  7.711071e+06  1.456923e+07  6.156675e+06 ...    \n",
       "3                  1.271810e+05  3.197441e+05  1.264250e+05 ...    \n",
       "4                  3.804012e+06  9.840294e+06  4.075294e+06 ...    \n",
       "\n",
       "Países\\Industrias            25             26           27             28  \\\n",
       "0                  2.540932e+04    3968.023768   564.387987   15052.563922   \n",
       "1                  9.267873e+05  106891.303804  4831.610480  307617.788848   \n",
       "2                  1.230898e+06  244046.678855  9487.115281  792653.176325   \n",
       "3                  2.540932e+04    3968.023768   564.387987   15052.563922   \n",
       "4                  9.699426e+05  106361.604865  4829.074854  306553.399333   \n",
       "\n",
       "Países\\Industrias            29            30             31            32  \\\n",
       "0                  3.777632e+04  1.281562e+05   16862.448577  1.235103e+05   \n",
       "1                  1.034717e+06  3.006292e+06  407720.309173  3.101008e+06   \n",
       "2                  2.039498e+06  6.456909e+06  819538.009819  5.966200e+06   \n",
       "3                  3.777632e+04  1.281552e+05   16862.388236  1.235100e+05   \n",
       "4                  1.037231e+06  3.036434e+06  409724.619992  3.110573e+06   \n",
       "\n",
       "Países\\Industrias            33   34  \n",
       "0                  4.370345e+04  0.0  \n",
       "1                  9.962087e+05  0.0  \n",
       "2                  2.137653e+06  0.0  \n",
       "3                  4.370188e+04  0.0  \n",
       "4                  9.966347e+05  0.0  \n",
       "\n",
       "[5 rows x 35 columns]"
      ]
     },
     "execution_count": 159,
     "metadata": {},
     "output_type": "execute_result"
    }
   ],
   "source": [
    "filter_panel('Colombia', 'destination')\n",
    "sim_country_f()\n",
    "nearest_neigh(sim_country , k , codes)\n",
    "Y_ij_gorro_L(off_c)"
   ]
  },
  {
   "cell_type": "markdown",
   "metadata": {},
   "source": [
    "$*$ With the following cell we calculate $\\hat{Y}^{[L]}_{ij}$ for each (country, destination) and build a new panel."
   ]
  },
  {
   "cell_type": "code",
   "execution_count": 13,
   "metadata": {
    "collapsed": true
   },
   "outputs": [],
   "source": [
    "panel_est_time = pd.DataFrame()\n",
    "for year in range(1995,2012):\n",
    "    panel_est  = pd.DataFrame()\n",
    "    open_f( year )\n",
    "    \n",
    "    for c in Países:             \n",
    "        filter_panel( c , 'destination' )\n",
    "        sim_country_f()\n",
    "        nearest_neigh(sim_country , k , codes)\n",
    "        Y_ij_gorro_L(off_c)                        #off for each country c                                     \n",
    "        add_col_country(final2['out'], c)          #adjoint a new column\n",
    "        panel_est = panel_est.append(au)           #append it to file. \n",
    "    \n",
    "    add_col_year(panel_est , year)\n",
    "    panel_est_time = panel_est_time.append(panel_est)\n",
    "\n",
    "panel_est_time.to_excel(dir1 + 'panel_implied_country.xlsx', index = False )"
   ]
  },
  {
   "cell_type": "markdown",
   "metadata": {},
   "source": [
    "$\\huge\\textbf{Regression analysis}$"
   ]
  },
  {
   "cell_type": "markdown",
   "metadata": {},
   "source": [
    "$*$ Regression analysis per (country , destination)"
   ]
  },
  {
   "cell_type": "code",
   "execution_count": 15,
   "metadata": {
    "collapsed": true
   },
   "outputs": [],
   "source": [
    "X_n, Z_n = 'Product space density', 'Country space density'\n",
    "def lin_reg(f1, f2, var):\n",
    "    global X , Y, model, data\n",
    "    \n",
    "    f = pd.merge(f1['out'], f2['out'] ,  on = 'Países\\Industrias' )\n",
    "    X, Y, Z = ([] for i in range(3))\n",
    "    \n",
    "    for code in industries:\n",
    "        Y.extend( list(final['in'][code]) )\n",
    "        X.extend( list(f[ str(code)+'_x' ]) )\n",
    "        Z.extend( list(f[ str(code)+'_y' ]) )\n",
    "    \n",
    "    data = pd.DataFrame({'Y': Y, X_n: X, Z_n:Z})\n",
    "    data['Y'], data[X_n], data[Z_n] = data['Y'].astype(float), data[X_n].astype(float), data[Z_n].astype(float)\n",
    "    data = data[ (data[X_n]!=0) & (data['Y']!=0) & (data[Z_n]!=0) ]\n",
    "    data = data.apply(np.log)\n",
    "    \n",
    "    Y, X = data.Y , data[var]\n",
    "    X = sm.add_constant(X)\n",
    "    model = sm.OLS(Y, X).fit()\n",
    "\n",
    "    return model\n",
    "    #return print(model.summary())"
   ]
  },
  {
   "cell_type": "code",
   "execution_count": 17,
   "metadata": {},
   "outputs": [
    {
     "name": "stdout",
     "output_type": "stream",
     "text": [
      "                            OLS Regression Results                            \n",
      "==============================================================================\n",
      "Dep. Variable:                      Y   R-squared:                       0.885\n",
      "Model:                            OLS   Adj. R-squared:                  0.884\n",
      "Method:                 Least Squares   F-statistic:                 1.668e+04\n",
      "Date:                Sat, 07 Apr 2018   Prob (F-statistic):               0.00\n",
      "Time:                        12:44:41   Log-Likelihood:                -8242.0\n",
      "No. Observations:                4359   AIC:                         1.649e+04\n",
      "Df Residuals:                    4356   BIC:                         1.651e+04\n",
      "Df Model:                           2                                         \n",
      "Covariance Type:            nonrobust                                         \n",
      "=========================================================================================\n",
      "                            coef    std err          t      P>|t|      [0.025      0.975]\n",
      "-----------------------------------------------------------------------------------------\n",
      "const                    -8.0634      0.169    -47.832      0.000      -8.394      -7.733\n",
      "Product space density     0.9111      0.006    143.511      0.000       0.899       0.924\n",
      "Country space density     0.5604      0.013     44.762      0.000       0.536       0.585\n",
      "==============================================================================\n",
      "Omnibus:                      375.306   Durbin-Watson:                   1.458\n",
      "Prob(Omnibus):                  0.000   Jarque-Bera (JB):             2440.860\n",
      "Skew:                          -0.012   Prob(JB):                         0.00\n",
      "Kurtosis:                       6.666   Cond. No.                         126.\n",
      "==============================================================================\n",
      "\n",
      "Warnings:\n",
      "[1] Standard Errors assume that the covariance matrix of the errors is correctly specified.\n"
     ]
    }
   ],
   "source": [
    "print(lin_reg(final, final2, [X_n,Z_n]).summary())"
   ]
  },
  {
   "cell_type": "markdown",
   "metadata": {},
   "source": [
    "$*$ Histogram of errors."
   ]
  },
  {
   "cell_type": "code",
   "execution_count": 90,
   "metadata": {},
   "outputs": [
    {
     "data": {
      "image/png": "[encoded data removed]",
      "text/plain": [
       "<matplotlib.figure.Figure at 0x2298f2bd3c8>"
      ]
     },
     "metadata": {},
     "output_type": "display_data"
    }
   ],
   "source": [
    "e = Y-model.predict(X)\n",
    "sns.distplot(e, hist=False, rug=True , label = 'Residuals')\n",
    "x = np.linspace(-10, 10, 100)\n",
    "plt.plot(x , mlab.normpdf(x, 0, 1), label='Normal')\n",
    "plt.axis([-10, 10, 0, 0.45]), plt.legend()\n",
    "plt.show()"
   ]
  },
  {
   "cell_type": "markdown",
   "metadata": {},
   "source": [
    "$*$ Regression analysis for 3 Latin American countries"
   ]
  },
  {
   "cell_type": "code",
   "execution_count": 15,
   "metadata": {
    "collapsed": true
   },
   "outputs": [],
   "source": [
    "year = '2011'\n",
    "open_f(year)"
   ]
  },
  {
   "cell_type": "code",
   "execution_count": 69,
   "metadata": {
    "collapsed": true
   },
   "outputs": [],
   "source": [
    "delete = ['\\caption{}\\n', '\\\\begin{center}\\n', '\\\\end{center}\\n', '\\\\begin{table}\\n', '\\n\\\\end{table}']\n",
    "\n",
    "def latex_table(c, f):\n",
    "    global res, text\n",
    "    info_dict={'R2' : lambda x: '{:.2f}'.format(x.rsquared),\n",
    "               'No. observaciones' : lambda x: '{:.0f}'.format(int(x.nobs)) }\n",
    "\n",
    "    m3 = lin_reg(final, final2, [X_n,Z_n])\n",
    "    m1 = lin_reg(final, final2, [X_n])\n",
    "    m2 = lin_reg(final, final2, [Z_n])\n",
    "    res = summary_col([m1,m2,m3],stars=True, float_format='%0.3f', model_names=['(1)', '(2)', '(3)'], \n",
    "                          regressor_order = [X_n , Z_n], info_dict=info_dict)\n",
    "    text = res.as_latex()\n",
    "    for l in delete:\n",
    "        text = text.replace(l,'')\n",
    "    \n",
    "    text = text[text.index('Product')-22:]\n",
    "    text = text.replace('{llll}','{llll}\\n \\\\hline & (1) & (2) & (3) \\\\\\\\')\n",
    "    text = text.replace('\\nProduct','\\n \\\\hline \\n Product')\n",
    "    text = text.replace('\\\\begin{tabular}','\\\\resizebox{0.95\\\\linewidth}{!}{%\\n\\\\begin{tabular}')\n",
    "    text = text.replace('\\end{tabular}','\\end{tabular}%\\n}')\n",
    "    \n",
    "    #text = text.replace('\\\\resizebox{0.95','\\\\begin{flushright}\\n\\\\resizebox{0.40',1)\n",
    "    #text = text.replace('\\end{tabular}%\\n}','\\end{tabular}%\\n}\\n\\\\end{flushright}\\n',1)\n",
    "    \n",
    "    with open(dir2+'Tablas\\\\'+ c + f +'.tex','w', encoding='utf-8') as tf:\n",
    "        tf.write(text)"
   ]
  },
  {
   "cell_type": "code",
   "execution_count": 71,
   "metadata": {},
   "outputs": [
    {
     "data": {
      "text/plain": [
       "'\\\\resizebox{0.95\\\\linewidth}{!}{%\\n\\\\begin{tabular}{llll}\\n \\\\hline & (1) & (2) & (3) \\\\\\\\\\n \\\\hline \\n Product space density & 1.027***  &           & 0.911***   \\\\\\\\\\n                      & (0.007)   &           & (0.006)    \\\\\\\\\\nCountry space density &           & 1.292***  & 0.560***   \\\\\\\\\\n                      &           & (0.027)   & (0.013)    \\\\\\\\\\nconst                 & -1.068*** & -9.545*** & -8.063***  \\\\\\\\\\n                      & (0.076)   & (0.403)   & (0.169)    \\\\\\\\\\nR2                    & 0.83      & 0.34      & 0.88       \\\\\\\\\\nNo. observaciones     & 4359      & 4359      & 4359       \\\\\\\\\\n\\\\hline\\n\\\\end{tabular}%\\n}'"
      ]
     },
     "execution_count": 71,
     "metadata": {},
     "output_type": "execute_result"
    }
   ],
   "source": [
    "latex_table(c , 'destination')\n",
    "#for l in delete:\n",
    "#    text = text.replace(l,'')\n",
    "text"
   ]
  },
  {
   "cell_type": "code",
   "execution_count": 72,
   "metadata": {
    "collapsed": true
   },
   "outputs": [],
   "source": [
    "countries = ['Colombia', 'Brazil', 'Argentina']\n",
    "flow = ['origin' , 'destination']\n",
    "for f in flow:\n",
    "    for c in countries:\n",
    "        filter_panel( c , f)\n",
    "        sim_country_f()\n",
    "        nearest_neigh(sim_country , k , codes)\n",
    "        Y_ij_gorro_L(off_c)\n",
    "\n",
    "        filter_panel( c , f)\n",
    "        sim_industry_f()\n",
    "        nearest_neigh(sim_industry , k , industries)\n",
    "        Y_ij_gorro_I(off)\n",
    "\n",
    "        latex_table(c, f)"
   ]
  },
  {
   "cell_type": "markdown",
   "metadata": {
    "collapsed": true
   },
   "source": [
    "$\\huge\\textbf{TeX tables}$"
   ]
  },
  {
   "cell_type": "markdown",
   "metadata": {},
   "source": [
    "$*$The following is just to extract most similar pairs of industries and countries, this is info included in the thesis"
   ]
  },
  {
   "cell_type": "code",
   "execution_count": 30,
   "metadata": {
    "collapsed": true
   },
   "outputs": [],
   "source": [
    "year = '2011'\n",
    "open_f(year)"
   ]
  },
  {
   "cell_type": "markdown",
   "metadata": {},
   "source": [
    "$*$Most related sectors:"
   ]
  },
  {
   "cell_type": "code",
   "execution_count": 33,
   "metadata": {
    "collapsed": true
   },
   "outputs": [],
   "source": [
    "countries = {'Colombia':[], 'Argentina':[], 'Brazil':[]}\n",
    "names = pd.read_excel(dir1+'industries_names.xlsx')\n",
    "names = {names.loc[t].values[0]:names.loc[t].values[1] for t in range(0,34)}\n",
    "for c in countries.keys():\n",
    "    #filter_panel(c, 'destination')\n",
    "    filter_panel(c, 'origin')\n",
    "    sim_industry_f()\n",
    "    \n",
    "    for i in sim_industry.columns[1:]:\n",
    "        for j in list(sim_industry[i]):\n",
    "            if list(sim_industry[i]).index(j)+1 > i:\n",
    "                l = list(sim_industry[i]).index(j)+1\n",
    "                countries[c].append(( names[i],names[l],round(j,4) ))\n",
    "    \n",
    "    countries[c] = [t for t in countries[c] if t[-1]!=1]\n",
    "    countries[c].sort(key=lambda tup: tup[-1], reverse=True)\n",
    "    countries[c] = countries[c][:3]"
   ]
  },
  {
   "cell_type": "markdown",
   "metadata": {},
   "source": [
    "$*$ Most related countries:"
   ]
  },
  {
   "cell_type": "code",
   "execution_count": 41,
   "metadata": {
    "collapsed": true
   },
   "outputs": [],
   "source": [
    "countries = {'Colombia':[], 'Argentina':[], 'Brazil':[]}\n",
    "\n",
    "for c in countries.keys():\n",
    "    filter_panel(c, 'destination')\n",
    "    #filter_panel(c, 'origin')\n",
    "    sim_country_f()\n",
    "    \n",
    "    for i in sim_country.columns[1:]:\n",
    "        for j in range(len(sim_country)):\n",
    "            if j > list(sim_country.columns[1:]).index(i):\n",
    "                l = sim_country[['Country',i]].iloc[j].values[0:2]\n",
    "                countries[c].append(( i , l[0], round(l[1],4) ))\n",
    "\n",
    "    countries[c] = [t for t in countries[c] if t[-1]!=1]\n",
    "    countries[c].sort(key=lambda tup: tup[-1], reverse=True)\n",
    "    countries[c] = countries[c][3:6]"
   ]
  },
  {
   "cell_type": "code",
   "execution_count": 42,
   "metadata": {
    "collapsed": true
   },
   "outputs": [],
   "source": [
    "s = pd.DataFrame()\n",
    "for c in countries.keys():\n",
    "    s = s.append( [(c,'-','-')] ) \n",
    "    s = s.append( pd.DataFrame(countries[c]) )\n",
    "#s.columns = ['Sector i', 'Sector j', 'Corr i-j']\n",
    "s.columns = ['País m', 'País n', 'Corr m-n']\n",
    "\n",
    "with open(dir2+'Tablas\\\\Phi_P'+'.tex','w', encoding='utf-8') as tf:\n",
    "    text = s.to_latex(index=False)\n",
    "    text = text.replace('\\\\begin{tabular}','\\\\resizebox{0.4\\\\linewidth}{!}{%\\n\\\\begin{tabular}')\n",
    "    text = text.replace('\\end{tabular}','\\end{tabular}%\\n}')\n",
    "    tf.write(text)"
   ]
  },
  {
   "cell_type": "code",
   "execution_count": 374,
   "metadata": {},
   "outputs": [
    {
     "data": {
      "image/png": "[encoded data removed]",
      "text/plain": [
       "<matplotlib.figure.Figure at 0x1ee263322b0>"
      ]
     },
     "metadata": {},
     "output_type": "display_data"
    }
   ],
   "source": [
    "filter_panel('Colombia', 'destination')\n",
    "d = off[off['Países\\Industrias'].isin(['Germany','Austria'])]\n",
    "for i in range(len(d)):\n",
    "    #plt.plot(range(1,35),[np.log(t) for t in d.iloc[i][1:]], label=d.iloc[i][0])\n",
    "    plt.plot(range(1,35),[t/sum(d.iloc[i][1:]) for t in d.iloc[i][1:]], label=d.iloc[i][0])\n",
    "plt.title('Porcentaje de cada sector respecto del total')\n",
    "plt.xlabel('Sectores'),plt.ylabel('Porcentaje de cada sector'), plt.legend()\n",
    "plt.savefig(dir2+'Imagenes\\\\Ger-Aus'+'.pdf', format='pdf', dpi=1000)\n",
    "\n",
    "plt.show()"
   ]
  },
  {
   "cell_type": "markdown",
   "metadata": {
    "collapsed": true
   },
   "source": [
    "$\\huge\\textbf{Panel regression}$"
   ]
  },
  {
   "cell_type": "code",
   "execution_count": 8,
   "metadata": {
    "collapsed": true
   },
   "outputs": [],
   "source": [
    "panel_f = pd.DataFrame()\n",
    "for year in range(1995,2012):\n",
    "    d = pd.read_excel(dir1 + 'panel' + str(year) + '.xlsx')\n",
    "    au = [year for t in range(len(d))]\n",
    "    d.insert(0, 'Year', au)\n",
    "    panel_f = panel_f.append(d)\n",
    "\n",
    "panel_f.to_excel(dir1 + 'panel.xlsx', index = False)"
   ]
  },
  {
   "cell_type": "code",
   "execution_count": 9,
   "metadata": {
    "collapsed": true
   },
   "outputs": [],
   "source": [
    "panel_f = pd.read_excel(dir1 + 'panel.xlsx')\n",
    "panel_f = panel_f[ panel_f['Países\\Industrias'].isin(pop['Country Name']) ]\n",
    "panel_f.to_excel(dir1 + 'panel.xlsx', index = False)"
   ]
  },
  {
   "cell_type": "code",
   "execution_count": 26,
   "metadata": {
    "collapsed": true
   },
   "outputs": [],
   "source": [
    "panel_f = pd.read_excel(dir1 + 'panel.xlsx')\n",
    "panel_ind = pd.read_excel(dir1 + 'panel_implied_ind.xlsx')\n",
    "panel_cou = pd.read_excel(dir1 + 'panel_implied_country.xlsx')"
   ]
  },
  {
   "cell_type": "code",
   "execution_count": 27,
   "metadata": {
    "collapsed": true
   },
   "outputs": [],
   "source": [
    "cols = ['Año' , 'Origen', 'Destino' ,'Industria' ,'Offshoring']\n",
    "\n",
    "data = [panel_f, panel_ind, panel_cou]\n",
    "frames = [[], [], []]\n",
    "\n",
    "for k in range(3):\n",
    "    d1 = data[k].reset_index(drop=True)\n",
    "\n",
    "    for row in d1.values.tolist():\n",
    "        i = 1\n",
    "        for cell in row[3:]:\n",
    "            frames[k].append(row[0:3]+[ i , cell])\n",
    "            i = i+1\n",
    "    frames[k] = pd.DataFrame(frames[k])\n",
    "    frames[k].columns = cols"
   ]
  },
  {
   "cell_type": "code",
   "execution_count": 29,
   "metadata": {},
   "outputs": [
    {
     "data": {
      "text/plain": [
       "(179475, 147589, 6102150, 5018026)"
      ]
     },
     "execution_count": 29,
     "metadata": {},
     "output_type": "execute_result"
    }
   ],
   "source": [
    "len(panel_f),  len(panel_ind), len(frames[0]), len(frames[1])"
   ]
  },
  {
   "cell_type": "code",
   "execution_count": 30,
   "metadata": {
    "collapsed": true
   },
   "outputs": [],
   "source": [
    "for df in frames:\n",
    "    df[['Año']] = df[['Año']].astype(str)\n",
    "    df[['Industria']] = df[['Industria']].astype(str)\n",
    "    df['Key'] = df[['Año', 'Origen', 'Destino', 'Industria']].apply(lambda x: ''.join(x), axis=1)"
   ]
  },
  {
   "cell_type": "code",
   "execution_count": 31,
   "metadata": {},
   "outputs": [
    {
     "data": {
      "text/html": [
       "<div>\n",
       "<style>\n",
       "    .dataframe thead tr:only-child th {\n",
       "        text-align: right;\n",
       "    }\n",
       "\n",
       "    .dataframe thead th {\n",
       "        text-align: left;\n",
       "    }\n",
       "\n",
       "    .dataframe tbody tr th {\n",
       "        vertical-align: top;\n",
       "    }\n",
       "</style>\n",
       "<table border=\"1\" class=\"dataframe\">\n",
       "  <thead>\n",
       "    <tr style=\"text-align: right;\">\n",
       "      <th></th>\n",
       "      <th>Año</th>\n",
       "      <th>Origen</th>\n",
       "      <th>Destino</th>\n",
       "      <th>Industria</th>\n",
       "      <th>Offshoring</th>\n",
       "      <th>Offshoring_1</th>\n",
       "      <th>Offshoring_2</th>\n",
       "    </tr>\n",
       "    <tr>\n",
       "      <th>Key</th>\n",
       "      <th></th>\n",
       "      <th></th>\n",
       "      <th></th>\n",
       "      <th></th>\n",
       "      <th></th>\n",
       "      <th></th>\n",
       "      <th></th>\n",
       "    </tr>\n",
       "  </thead>\n",
       "  <tbody>\n",
       "    <tr>\n",
       "      <th>1995PeruRussian Federation1</th>\n",
       "      <td>1995</td>\n",
       "      <td>Peru</td>\n",
       "      <td>Russian Federation</td>\n",
       "      <td>1</td>\n",
       "      <td>1.077261e+05</td>\n",
       "      <td>131392.563620</td>\n",
       "      <td>5.772573e+06</td>\n",
       "    </tr>\n",
       "    <tr>\n",
       "      <th>1995PeruRussian Federation2</th>\n",
       "      <td>1995</td>\n",
       "      <td>Peru</td>\n",
       "      <td>Russian Federation</td>\n",
       "      <td>2</td>\n",
       "      <td>4.724163e+04</td>\n",
       "      <td>98414.864874</td>\n",
       "      <td>4.337162e+06</td>\n",
       "    </tr>\n",
       "    <tr>\n",
       "      <th>1995PeruRussian Federation3</th>\n",
       "      <td>1995</td>\n",
       "      <td>Peru</td>\n",
       "      <td>Russian Federation</td>\n",
       "      <td>3</td>\n",
       "      <td>1.155941e+06</td>\n",
       "      <td>152784.472351</td>\n",
       "      <td>6.663921e+06</td>\n",
       "    </tr>\n",
       "    <tr>\n",
       "      <th>1995PeruRussian Federation4</th>\n",
       "      <td>1995</td>\n",
       "      <td>Peru</td>\n",
       "      <td>Russian Federation</td>\n",
       "      <td>4</td>\n",
       "      <td>3.368572e+05</td>\n",
       "      <td>276858.705139</td>\n",
       "      <td>3.763648e+06</td>\n",
       "    </tr>\n",
       "    <tr>\n",
       "      <th>1995PeruRussian Federation5</th>\n",
       "      <td>1995</td>\n",
       "      <td>Peru</td>\n",
       "      <td>Russian Federation</td>\n",
       "      <td>5</td>\n",
       "      <td>4.149868e+04</td>\n",
       "      <td>29168.030006</td>\n",
       "      <td>2.477838e+06</td>\n",
       "    </tr>\n",
       "  </tbody>\n",
       "</table>\n",
       "</div>"
      ],
      "text/plain": [
       "                              Año Origen             Destino Industria  \\\n",
       "Key                                                                      \n",
       "1995PeruRussian Federation1  1995   Peru  Russian Federation         1   \n",
       "1995PeruRussian Federation2  1995   Peru  Russian Federation         2   \n",
       "1995PeruRussian Federation3  1995   Peru  Russian Federation         3   \n",
       "1995PeruRussian Federation4  1995   Peru  Russian Federation         4   \n",
       "1995PeruRussian Federation5  1995   Peru  Russian Federation         5   \n",
       "\n",
       "                               Offshoring   Offshoring_1  Offshoring_2  \n",
       "Key                                                                     \n",
       "1995PeruRussian Federation1  1.077261e+05  131392.563620  5.772573e+06  \n",
       "1995PeruRussian Federation2  4.724163e+04   98414.864874  4.337162e+06  \n",
       "1995PeruRussian Federation3  1.155941e+06  152784.472351  6.663921e+06  \n",
       "1995PeruRussian Federation4  3.368572e+05  276858.705139  3.763648e+06  \n",
       "1995PeruRussian Federation5  4.149868e+04   29168.030006  2.477838e+06  "
      ]
     },
     "execution_count": 31,
     "metadata": {},
     "output_type": "execute_result"
    }
   ],
   "source": [
    "f = frames[1].set_index('Key').join(frames[2].set_index('Key'), lsuffix='_1', rsuffix='_2')\n",
    "f = f[['Año_1', 'Origen_1', 'Destino_1', 'Industria_1','Offshoring_1', 'Offshoring_2']]\n",
    "f = f.join(frames[0].set_index('Key'))\n",
    "f = f[['Año', 'Origen', 'Destino' , 'Industria', 'Offshoring', 'Offshoring_1', 'Offshoring_2']]\n",
    "f.head()"
   ]
  },
  {
   "cell_type": "code",
   "execution_count": 32,
   "metadata": {},
   "outputs": [
    {
     "data": {
      "text/plain": [
       "(6102150, 5018026, 5018026)"
      ]
     },
     "execution_count": 32,
     "metadata": {},
     "output_type": "execute_result"
    }
   ],
   "source": [
    "len(frames[0]), len(frames[1]), len(f)"
   ]
  },
  {
   "cell_type": "code",
   "execution_count": 33,
   "metadata": {
    "collapsed": true
   },
   "outputs": [],
   "source": [
    "f[['Año']] = f[['Año']].astype(np.int64)\n",
    "f[['Industria']] = f[['Industria']].astype(np.int64)"
   ]
  },
  {
   "cell_type": "code",
   "execution_count": 34,
   "metadata": {
    "collapsed": true
   },
   "outputs": [],
   "source": [
    "f = f.reset_index(drop=True)\n",
    "#f.to_stata(dir1 + 'panel_full.dta', index=False)\n",
    "f.to_excel(dir1 + 'panel_full.xlsx', index=False)"
   ]
  },
  {
   "cell_type": "code",
   "execution_count": 35,
   "metadata": {
    "collapsed": true
   },
   "outputs": [],
   "source": [
    "f.to_pickle(dir1 + 'panel_full.pkl')"
   ]
  },
  {
   "cell_type": "code",
   "execution_count": 37,
   "metadata": {
    "collapsed": true
   },
   "outputs": [],
   "source": [
    "f.to_csv(dir1 + 'panel_full.csv', index=False , sep = ';')"
   ]
  },
  {
   "cell_type": "markdown",
   "metadata": {},
   "source": [
    "$\\textbf{Estimations}$"
   ]
  },
  {
   "cell_type": "code",
   "execution_count": 119,
   "metadata": {
    "collapsed": true
   },
   "outputs": [],
   "source": [
    "from linearmodels import PooledOLS, PanelOLS"
   ]
  },
  {
   "cell_type": "code",
   "execution_count": 140,
   "metadata": {
    "collapsed": true
   },
   "outputs": [],
   "source": [
    "f['Año'] =  f['Año'].astype(np.int64)\n",
    "for n in ['Offshoring', 'Offshoring_1', 'Offshoring_2']:\n",
    "    f[n] =  f[n].astype(float)\n",
    "f = f[ (f['Offshoring']!=0) & (f['Offshoring_1']!=0) & (f['Offshoring_2']!=0) ]\n",
    "data = f.copy()\n",
    "data = data.set_index(['Origen', 'Destino' , 'Año'])\n",
    "data = data[['Offshoring', 'Offshoring_1', 'Offshoring_2']]\n",
    "data = data.apply(np.log)\n",
    "\n",
    "Y, X = data[['Offshoring']] , data[['Offshoring_1', 'Offshoring_2']]\n",
    "X = sm.add_constant(X)"
   ]
  },
  {
   "cell_type": "code",
   "execution_count": 157,
   "metadata": {
    "collapsed": true
   },
   "outputs": [],
   "source": [
    "#mod = PanelOLS(data.Offshoring, data[['Offshoring_1', 'Offshoring_2']])\n",
    "#res = mod.fit(cov_type='clustered', cluster_entity=True)\n",
    "#print(res.summary())"
   ]
  },
  {
   "cell_type": "code",
   "execution_count": null,
   "metadata": {
    "collapsed": true
   },
   "outputs": [],
   "source": []
  }
 ],
 "metadata": {
  "kernelspec": {
   "display_name": "Python 3",
   "language": "python",
   "name": "python3"
  },
  "language_info": {
   "codemirror_mode": {
    "name": "ipython",
    "version": 3
   },
   "file_extension": ".py",
   "mimetype": "text/x-python",
   "name": "python",
   "nbconvert_exporter": "python",
   "pygments_lexer": "ipython3",
   "version": "3.6.4"
  }
 },
 "nbformat": 4,
 "nbformat_minor": 2
}
