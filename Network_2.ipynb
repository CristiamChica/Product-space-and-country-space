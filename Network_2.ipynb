{
 "cells": [
  {
   "cell_type": "code",
   "execution_count": 1,
   "metadata": {},
   "outputs": [],
   "source": [
    "%matplotlib inline \n",
    "import numpy as np\n",
    "import random as rd\n",
    "import pandas as pd\n",
    "import matplotlib.pyplot as plt\n",
    "import matplotlib.gridspec as gridspec\n",
    "import networkx as nx\n",
    "import ipywidgets as wg\n",
    "from ipywidgets import Layout, Button, Box, VBox, HBox\n",
    "from IPython.display import display\n",
    "import collections, randomcolor, time, warnings\n",
    "warnings.filterwarnings('ignore')"
   ]
  },
  {
   "cell_type": "code",
   "execution_count": 2,
   "metadata": {},
   "outputs": [],
   "source": [
    "bad = ['Dem. Rep. of the Congo','Kuwait','Algeria','Saudi Arabia','United Arab Emirates',\n",
    "       'Angola','Azerbaijan','Curaçao',]\n",
    "Países = ['Brunei Darussalam', 'Peru', 'Greece', 'Slovakia', 'Thailand', 'Denmark', 'Austria', 'Slovenia', \n",
    "          'Finland', 'Belgium', 'Germany', 'Spain', 'Korea', 'Philippines', 'Hungary', 'Viet Nam', 'South Africa',\n",
    "          'Brazil', 'Argentina', 'India', 'Lithuania', 'United Kingdom', 'Canada', 'Netherlands', \n",
    "          'Russian Federation', 'Poland', 'Italy', 'Colombia', 'Mexico', 'Cambodia', 'Switzerland', 'Morocco', \n",
    "          'Norway', 'Japan', 'Croatia', 'Luxembourg', 'Tunisia', 'Turkey', 'USA', 'Czechia', 'Sweden', 'Latvia',\n",
    "          'Malta', 'Singapore', 'Bulgaria', 'Portugal', 'Iceland', 'Romania', 'Saudi Arabia', 'Chile', 'Estonia', \n",
    "          'France', 'China, Hong Kong SAR', 'China', 'Australia', 'Ireland', 'New Zealand', 'Malaysia', \n",
    "          'Costa Rica', 'Indonesia', 'Cyprus', 'Israel']\n",
    "\n",
    "Developed=['Austria','Belgium','Denmark','Finland','France','Germany','Greece','Ireland','Italy','Luxembourg',\n",
    "'Netherlands','Portugal','Spain','Sweden','United Kingdom','Bulgaria','Croatia','Cyprus','Czechia','Estonia',\n",
    "'Hungary','Latvia','Lithuania','Malta','Poland','Romania','Slovakia','Slovenia','Iceland','Norway','Switzerland',\n",
    "'Australia','Canada','Japan','New Zealand','USA']\n",
    "\n",
    "Nondevel=[t for t in Países if t not in Developed]\n",
    "tech ={'high':[17,8,14] , 'low':[18,5,6,3,4]}"
   ]
  },
  {
   "cell_type": "code",
   "execution_count": 3,
   "metadata": {},
   "outputs": [],
   "source": [
    "dir1 = 'C:\\\\Users\\\\Usuario\\\\Dropbox\\\\Eafit\\\\3-Third run\\\\Data\\\\'\n",
    "dir2 = 'C:\\\\Users\\\\Usuario\\\\Documents\\\\Comtrade\\\\Second run\\\\'\n",
    "dir3 = 'C:\\\\Users\\\\Usuario\\\\Dropbox\\\\Eafit\\\\Tesis Maestría\\\\Análisis de red\\\\'"
   ]
  },
  {
   "cell_type": "code",
   "execution_count": 7,
   "metadata": {},
   "outputs": [],
   "source": [
    "data = pd.read_pickle(dir2 + 'panel_full.pkl')\n",
    "#data = pd.read_excel(dir1 + 'panel.xlsx')"
   ]
  },
  {
   "cell_type": "code",
   "execution_count": 8,
   "metadata": {},
   "outputs": [],
   "source": [
    "data[['Industria']]= data[['Industria']].astype(np.int64)\n",
    "data[['Año']]= data[['Año']].astype(np.int64)"
   ]
  },
  {
   "cell_type": "code",
   "execution_count": 58,
   "metadata": {},
   "outputs": [],
   "source": [
    "data_h = data[data['Industria'].isin(tech['high'])]\n",
    "data_l = data[data['Industria'].isin(tech['low'])]"
   ]
  },
  {
   "cell_type": "code",
   "execution_count": 9,
   "metadata": {},
   "outputs": [],
   "source": [
    "def weight_industry(data, var, year, i, p):\n",
    "    df = data[ (data['Año'] == year) & (data['Industria'] == i )][['Origen', 'Destino', var]]\n",
    "    df = df[ df[var]>(df[var].sum()*p) ]\n",
    "    return df.values.tolist()"
   ]
  },
  {
   "cell_type": "code",
   "execution_count": 10,
   "metadata": {},
   "outputs": [],
   "source": [
    "def weight_industry_2(data, year, i, p):\n",
    "    df = data[ data['Year'] == year ][['Importer','Países\\Industrias', i]]\n",
    "    df = df[ df[i]>(df[i].sum()*p) ]\n",
    "    #df = df[df['Importer'].isin(Países)]\n",
    "    return df.values.tolist()"
   ]
  },
  {
   "cell_type": "code",
   "execution_count": 11,
   "metadata": {},
   "outputs": [],
   "source": [
    "def function_weights():\n",
    "    global graph\n",
    "    for e in graph.edges(data=True):\n",
    "        if e[2]['weight']==0:\n",
    "            e[2]['weight']=1\n",
    "        else:\n",
    "            e[2]['weight']=1/e[2]['weight']"
   ]
  },
  {
   "cell_type": "code",
   "execution_count": 31,
   "metadata": {},
   "outputs": [],
   "source": [
    "def multigraph_year(data, var, year, p):\n",
    "    global graph, df\n",
    "    df = data[data['Año']==year][['Origen','Destino',var]]\n",
    "    df = df[df[var]>= p*df[var].sum()]\n",
    "    df = df.values.tolist()\n",
    "    \n",
    "    graph = nx.MultiGraph()\n",
    "    graph.add_weighted_edges_from(df)\n",
    "    \n",
    "def graph_year(data, var, year, p):\n",
    "    global graph, df\n",
    "    df = data[data['Año']==year][['Origen','Destino',var]]\n",
    "    df = df[df[var]>= p*df[var].sum()]\n",
    "    df = df.values.tolist()\n",
    "    \n",
    "    graph = nx.Graph()\n",
    "    graph.add_weighted_edges_from(df)\n",
    "    \n",
    "def multidigraph_year(data, var, year, p):\n",
    "    global graph\n",
    "    df = data[data['Año']==year][['Origen','Destino',var]]\n",
    "    df = df[df[var]>= p*df[var].sum()]\n",
    "    df = df.values.tolist()\n",
    "    \n",
    "    graph = nx.MultiDiGraph()\n",
    "    graph.add_weighted_edges_from(df)"
   ]
  },
  {
   "cell_type": "code",
   "execution_count": 33,
   "metadata": {},
   "outputs": [],
   "source": [
    "def industry_den(data, var,  i, p):\n",
    "    global industry, V, E\n",
    "    \n",
    "    #Information\n",
    "    industry, V, E = ([] for j in range(3))\n",
    "    for y in range(1995,2012):\n",
    "        grafo = nx.DiGraph()\n",
    "        #grafo.add_weighted_edges_from(weight_industry(data, var, y, i, p))\n",
    "        grafo.add_weighted_edges_from(weight_industry_2(data, y, i, p))\n",
    "        industry.append(nx.density(grafo)), V.append(grafo.number_of_nodes()), E.append(grafo.number_of_edges())                        \n",
    "    \n",
    "    #Plot\n",
    "    fig = plt.figure(1,figsize=(14, 6))\n",
    "    gridspec.GridSpec(3,3)\n",
    "    plt.subplot2grid((3,3), (0,0), colspan=2, rowspan=3)\n",
    "    plt.xlabel('Years'), plt.ylabel('Graph density'), \n",
    "    title = ('Density, Sector: '+str(i))\n",
    "             #+'\\n'+ pd.read_excel(dir1+'industries_names.xlsx').iloc[[i-1]].get_values()[0][1])\n",
    "    plt.title(title)\n",
    "    plt.plot(range(1995,2012),industry,'r')\n",
    "    \n",
    "    plt.subplot2grid((3,3),(0,2))\n",
    "    plt.plot(range(1995,2012), V), plt.title('Number of vertices through time')\n",
    "    plt.subplot2grid((3,3),(1,2))\n",
    "    plt.plot(range(1995,2012), E), plt.title('Number of edges through time')\n",
    "    fig.tight_layout()\n",
    "    \n",
    "    direc = (dir3+'Imagenes\\\\' 'sector-' + str(i) +'-p-'+ str(p) +'_eng.pdf')\n",
    "    plt.savefig(direc, format='pdf', dpi=1000)\n",
    "    \n",
    "    #return plt.show()"
   ]
  },
  {
   "cell_type": "code",
   "execution_count": 34,
   "metadata": {},
   "outputs": [
    {
     "data": {
      "image/png": "[encoded data removed]",
      "text/plain": [
       "<matplotlib.figure.Figure at 0x2bb9b358748>"
      ]
     },
     "metadata": {},
     "output_type": "display_data"
    }
   ],
   "source": [
    "industry_den(data, 'Offshoring', 14, 0)"
   ]
  },
  {
   "cell_type": "code",
   "execution_count": 35,
   "metadata": {},
   "outputs": [
    {
     "data": {
      "image/png": "[encoded data removed]",
      "text/plain": [
       "<matplotlib.figure.Figure at 0x2bb9b32a550>"
      ]
     },
     "metadata": {},
     "output_type": "display_data"
    }
   ],
   "source": [
    "industries_ = []\n",
    "for k in range(1,34):\n",
    "    industry_den(data, 'Offshoring', k, 0)\n",
    "    industries_.append(industry)"
   ]
  },
  {
   "cell_type": "code",
   "execution_count": 36,
   "metadata": {},
   "outputs": [
    {
     "data": {
      "image/png": "[encoded data removed]",
      "text/plain": [
       "<matplotlib.figure.Figure at 0x2bb3497a518>"
      ]
     },
     "metadata": {},
     "output_type": "display_data"
    }
   ],
   "source": [
    "import randomcolor\n",
    "def multiplot(list_):\n",
    "    rand_color = randomcolor.RandomColor()\n",
    "    fig = plt.figure(figsize=(14,6))\n",
    "    for ind in list_:\n",
    "        plt.plot( range(1995,2012), ind, color = rand_color.generate()[0])\n",
    "    plt.xlabel('Years'), plt.ylabel('Graph density')\n",
    "    fig.tight_layout()\n",
    "    \n",
    "    direc = dir3 + 'Imagenes\\\\all-sec_eng.pdf'\n",
    "    plt.savefig(direc, format='pdf', dpi=1000)\n",
    "    return plt.show()\n",
    "\n",
    "multiplot(industries_)"
   ]
  },
  {
   "cell_type": "code",
   "execution_count": 48,
   "metadata": {},
   "outputs": [
    {
     "data": {
      "image/png": "[encoded data removed]",
      "text/plain": [
       "<matplotlib.figure.Figure at 0x2bb9b2ecf60>"
      ]
     },
     "metadata": {},
     "output_type": "display_data"
    }
   ],
   "source": [
    "year = 2011\n",
    "data = pd.read_excel(dir1+'panel' + str(year) + '.xlsx')\n",
    "d1 = data[data['Países\\Industrias']=='Colombia'][data['Importer'] == 'Austria']\n",
    "d2 = data[data['Países\\Industrias']=='Colombia'][data['Importer'] == 'Germany']\n",
    "\n",
    "plot = [ d1[i].sum() for i in range(1,35) ]\n",
    "plot = [ i/sum(plot) for i in plot ]\n",
    "plot2 = [ d2[i].sum() for i in range(1,35) ]\n",
    "plot2 = [ i/sum(plot2) for i in plot2 ]\n",
    "\n",
    "x = [ i+1 for i in range(34) ]\n",
    "len_x = len(x)\n",
    "index = np.arange(len_x)\n",
    "fig , ax = plt.subplots( figsize=(10, 3.5) )\n",
    "bar_width , opacity , colors = 1 , 0.68 , 'rgbkymc'\n",
    "\n",
    "rects1 = plt.bar(x , plot , bar_width , alpha = opacity , color = colors, label='Austria')\n",
    "plt.plot(x , plot2 , alpha = opacity , color = 'b')\n",
    "plt.scatter(x , plot2 , c='b'  , marker='D' , alpha=1, label='Germany')\n",
    "\n",
    "plotr , xor = zip(*sorted(zip(plot, x), reverse=True)) \n",
    "plt.xlabel('Sectors') , plt.ylabel('Offshoring percentage of each sector')\n",
    "plt.xticks(index + bar_width, x)\n",
    "for tick in ax.get_xticklabels():\n",
    "    tick.set_rotation(0)\n",
    "plt.legend() , plt.tight_layout()\n",
    "\n",
    "sname = dir3 + 'Imagenes\\\\Ger-Aus_eng.pdf'\n",
    "plt.savefig(sname, format='pdf', dpi=1000)\n",
    "plt.show()\n"
   ]
  },
  {
   "cell_type": "markdown",
   "metadata": {
    "collapsed": true
   },
   "source": [
    "$*$ Sector más grande:"
   ]
  },
  {
   "cell_type": "code",
   "execution_count": 13,
   "metadata": {},
   "outputs": [
    {
     "data": {
      "text/plain": [
       "{'Offp': (7, 27),\n",
       " 'Offshoring': (7, 27),\n",
       " 'Offshoring_1': (10, 29),\n",
       " 'Offshoring_2': (7, 27)}"
      ]
     },
     "execution_count": 13,
     "metadata": {},
     "output_type": "execute_result"
    }
   ],
   "source": [
    "Variables , Sector = ['Offshoring', 'Offshoring_1', 'Offshoring_2', 'Offp'] , {}\n",
    "for var in Variables:\n",
    "    Sector[var] = [ (data[data['Industria']== i][var].sum() , i) for i in range(1,35)  ]\n",
    "    Sector[var] = sorted(Sector[var], key=lambda tup: tup[0], reverse=True)\n",
    "    Sector[var] = (Sector[var][0][1], Sector[var][-2][1])\n",
    "Sector"
   ]
  },
  {
   "cell_type": "code",
   "execution_count": 59,
   "metadata": {},
   "outputs": [
    {
     "data": {
      "text/plain": [
       "{'high': (14, 17), 'low': (18, 5)}"
      ]
     },
     "execution_count": 59,
     "metadata": {},
     "output_type": "execute_result"
    }
   ],
   "source": [
    "frames , S_hl = {'high':data_h, 'low':data_l} , {}\n",
    "for t in ['high', 'low']:\n",
    "    ind = set(frames[t]['Industria'])\n",
    "    S_hl[t] =  [ (frames[t][frames[t]['Industria']==i]['Offshoring'].sum() , i) for i in ind  ]\n",
    "    S_hl[t] = sorted(S_hl[t], key=lambda tup: tup[0], reverse=True)\n",
    "    S_hl[t] = (S_hl[t][0][1], S_hl[t][-1][1])\n",
    "S_hl"
   ]
  },
  {
   "cell_type": "markdown",
   "metadata": {},
   "source": [
    "$*$ Desarrollado más grande:"
   ]
  },
  {
   "cell_type": "code",
   "execution_count": 222,
   "metadata": {},
   "outputs": [
    {
     "data": {
      "text/plain": [
       "{'Offp': ('USA', 'Iceland'),\n",
       " 'Offshoring': ('USA', 'Malta'),\n",
       " 'Offshoring_1': ('USA', 'Malta'),\n",
       " 'Offshoring_2': ('USA', 'Iceland')}"
      ]
     },
     "execution_count": 222,
     "metadata": {},
     "output_type": "execute_result"
    }
   ],
   "source": [
    "C = {}\n",
    "for var in Variables:\n",
    "    C[var] = [ (data[data['Origen']==p][var].sum(), p) for p in Developed ]\n",
    "    C[var] = sorted(C[var], key=lambda tup: tup[0], reverse=True)\n",
    "    C[var] = (C[var][0][1], C[var][-1][1])\n",
    "C"
   ]
  },
  {
   "cell_type": "code",
   "execution_count": 46,
   "metadata": {},
   "outputs": [
    {
     "data": {
      "text/plain": [
       "{'high': ('USA', 'Iceland'), 'low': ('USA', 'Iceland')}"
      ]
     },
     "execution_count": 46,
     "metadata": {},
     "output_type": "execute_result"
    }
   ],
   "source": [
    "D_hl = {}\n",
    "for t in ['high', 'low']:\n",
    "    D_hl[t] =  [ (frames[t][frames[t]['Origen']==p]['Offshoring'].sum() , p) for p in Developed  ]\n",
    "    D_hl[t] = sorted(D_hl[t], key=lambda tup: tup[0], reverse=True)\n",
    "    D_hl[t] = (D_hl[t][0][1], D_hl[t][-1][1])\n",
    "D_hl"
   ]
  },
  {
   "cell_type": "markdown",
   "metadata": {},
   "source": [
    "$*$ En desarrollo más grande:"
   ]
  },
  {
   "cell_type": "code",
   "execution_count": 223,
   "metadata": {},
   "outputs": [
    {
     "data": {
      "text/plain": [
       "{'Offp': ('China', 'Brunei Darussalam'),\n",
       " 'Offshoring': ('China', 'Brunei Darussalam'),\n",
       " 'Offshoring_1': ('China', 'Brunei Darussalam'),\n",
       " 'Offshoring_2': ('China', 'Brunei Darussalam')}"
      ]
     },
     "execution_count": 223,
     "metadata": {},
     "output_type": "execute_result"
    }
   ],
   "source": [
    "C_n = {}\n",
    "for var in Variables:\n",
    "    C_n[var] = [ (data[data['Origen']==p][var].sum(), p) for p in Nondevel ]\n",
    "    C_n[var] = sorted(C_n[var], key=lambda tup: tup[0], reverse=True)\n",
    "    C_n[var] = (C_n[var][0][1], C_n[var][-1][1])\n",
    "C_n"
   ]
  },
  {
   "cell_type": "code",
   "execution_count": 47,
   "metadata": {},
   "outputs": [
    {
     "data": {
      "text/plain": [
       "{'high': ('China', 'Brunei Darussalam'), 'low': ('China', 'Brunei Darussalam')}"
      ]
     },
     "execution_count": 47,
     "metadata": {},
     "output_type": "execute_result"
    }
   ],
   "source": [
    "N_hl = {}\n",
    "for t in ['high', 'low']:\n",
    "    N_hl[t] =  [ (frames[t][frames[t]['Origen']==p]['Offshoring'].sum() , p) for p in Nondevel  ]\n",
    "    N_hl[t] = sorted(N_hl[t], key=lambda tup: tup[0], reverse=True)\n",
    "    N_hl[t] = (N_hl[t][0][1], N_hl[t][-1][1])\n",
    "N_hl"
   ]
  },
  {
   "cell_type": "markdown",
   "metadata": {},
   "source": [
    "$*$ Año más grande:"
   ]
  },
  {
   "cell_type": "code",
   "execution_count": 224,
   "metadata": {},
   "outputs": [
    {
     "data": {
      "text/plain": [
       "{'Offp': (2011, 1996),\n",
       " 'Offshoring': (2011, 1995),\n",
       " 'Offshoring_1': (2011, 1996),\n",
       " 'Offshoring_2': (2011, 1995)}"
      ]
     },
     "execution_count": 224,
     "metadata": {},
     "output_type": "execute_result"
    }
   ],
   "source": [
    "A = {}\n",
    "for var in Variables:\n",
    "    A[var] = [ (data[data['Año']==y][var].sum() , y) for y in range(1995, 2012)]\n",
    "    A[var] = sorted(A[var], key=lambda tup: tup[0], reverse=True)\n",
    "    A[var] = (A[var][0][1] , A[var][-1][1])\n",
    "A"
   ]
  },
  {
   "cell_type": "markdown",
   "metadata": {},
   "source": [
    "$*$ De mayor centralidad:"
   ]
  },
  {
   "cell_type": "code",
   "execution_count": 46,
   "metadata": {},
   "outputs": [
    {
     "data": {
      "text/plain": [
       "{'Offp': 'Canada',\n",
       " 'Offshoring': 'Canada',\n",
       " 'Offshoring_1': 'Canada',\n",
       " 'Offshoring_2': 'Canada'}"
      ]
     },
     "execution_count": 46,
     "metadata": {},
     "output_type": "execute_result"
    }
   ],
   "source": [
    "#Degree centrality graph\n",
    "DC = {}\n",
    "for var in Variables:\n",
    "    DC[var] = []\n",
    "    for year in range(1995, 2012):\n",
    "        multigraph_year(data, var, year, 0)\n",
    "        d = nx.degree_centrality(graph)\n",
    "        c = [p for p in d.keys() if d[p]== max(d.values())][0]\n",
    "        DC[var].append( ( d[c] , c ) )\n",
    "    DC[var] = sorted(DC[var], key=lambda tup: tup[0], reverse=True)[0][1]\n",
    "DC"
   ]
  },
  {
   "cell_type": "code",
   "execution_count": 65,
   "metadata": {},
   "outputs": [
    {
     "data": {
      "text/plain": [
       "{'high': (3.154696132596685, 'United Kingdom', 1996),\n",
       " 'low': (5.56544502617801, 'Canada', 2003)}"
      ]
     },
     "execution_count": 65,
     "metadata": {},
     "output_type": "execute_result"
    }
   ],
   "source": [
    "DC_hl = {}\n",
    "for t in ['high', 'low']:\n",
    "    DC_hl[t] = []\n",
    "    for year in range(1995,2012):\n",
    "        multigraph_year(frames[t], 'Offshoring', year, 0.000000005)\n",
    "        d = nx.degree_centrality(graph)\n",
    "        c = [p for p in d.keys() if d[p]== max(d.values())][0]\n",
    "        DC_hl[t].append( (d[c],c, year) )\n",
    "    DC_hl[t] = sorted(DC_hl[t], key=lambda tup: tup[0], reverse=True)[0]\n",
    "DC_hl"
   ]
  },
  {
   "cell_type": "code",
   "execution_count": 57,
   "metadata": {},
   "outputs": [
    {
     "data": {
      "text/plain": [
       "{'Offp': 'Germany',\n",
       " 'Offshoring': 'Germany',\n",
       " 'Offshoring_1': 'Germany',\n",
       " 'Offshoring_2': 'Germany'}"
      ]
     },
     "execution_count": 57,
     "metadata": {},
     "output_type": "execute_result"
    }
   ],
   "source": [
    "#Out Degree centrality digraph\n",
    "DC2 = {}\n",
    "for var in Variables:\n",
    "    DC2[var] = []\n",
    "    for year in range(1995, 2012):\n",
    "        multidigraph_year(data, var, year, 0.00000000005)\n",
    "        d = nx.out_degree_centrality(graph)\n",
    "        c = [p for p in d.keys() if d[p]== max(d.values())][0]\n",
    "        DC2[var].append( ( d[c] , c ) )\n",
    "    DC2[var] = sorted(DC2[var], key=lambda tup: tup[0], reverse=True)[0][1]\n",
    "DC2"
   ]
  },
  {
   "cell_type": "code",
   "execution_count": 69,
   "metadata": {},
   "outputs": [
    {
     "data": {
      "text/plain": [
       "{'high': (2.966666666666667, 'Germany', 1997),\n",
       " 'low': (4.944444444444445, 'Germany', 1997)}"
      ]
     },
     "execution_count": 69,
     "metadata": {},
     "output_type": "execute_result"
    }
   ],
   "source": [
    "DC2_hl = {}\n",
    "for t in ['high', 'low']:\n",
    "    DC2_hl[t] = []\n",
    "    for year in range(1995,2012):\n",
    "        multidigraph_year(frames[t], 'Offshoring', year)\n",
    "        d = nx.out_degree_centrality(graph)\n",
    "        c = [p for p in d.keys() if d[p]== max(d.values())][0]\n",
    "        DC2_hl[t].append( (d[c],c, year) )\n",
    "    DC2_hl[t] = sorted(DC2_hl[t], key=lambda tup: tup[0], reverse=True)[0]\n",
    "DC2_hl"
   ]
  },
  {
   "cell_type": "code",
   "execution_count": 15,
   "metadata": {},
   "outputs": [
    {
     "data": {
      "text/plain": [
       "{'Offp': 'Japan',\n",
       " 'Offshoring': 'Japan',\n",
       " 'Offshoring_1': 'Japan',\n",
       " 'Offshoring_2': 'Japan'}"
      ]
     },
     "execution_count": 15,
     "metadata": {},
     "output_type": "execute_result"
    }
   ],
   "source": [
    "#Betweenness centrality\n",
    "BC = {}\n",
    "for var in Variables:\n",
    "    BC[var] = []\n",
    "    for year in range(1995, 2012):\n",
    "        multigraph_year(data, var, year)\n",
    "        d = nx.betweenness_centrality(graph)\n",
    "        c = [p for p in d.keys() if d[p]== max(d.values())][0]\n",
    "        BC[var].append( ( d[c] , c ) )\n",
    "    BC[var] = sorted(BC[var], key=lambda tup: tup[0], reverse=True)[0][1]\n",
    "BC"
   ]
  },
  {
   "cell_type": "code",
   "execution_count": 16,
   "metadata": {},
   "outputs": [
    {
     "data": {
      "text/plain": [
       "{'Offp': 'Canada',\n",
       " 'Offshoring': 'Canada',\n",
       " 'Offshoring_1': 'Canada',\n",
       " 'Offshoring_2': 'Canada'}"
      ]
     },
     "execution_count": 16,
     "metadata": {},
     "output_type": "execute_result"
    }
   ],
   "source": [
    "#Betweenness centrality digraph\n",
    "BC = {}\n",
    "for var in Variables:\n",
    "    BC[var] = []\n",
    "    for year in range(1995, 2012):\n",
    "        multidigraph_year(data, var, year)\n",
    "        d = nx.betweenness_centrality(graph)\n",
    "        c = [p for p in d.keys() if d[p]== max(d.values())][0]\n",
    "        BC[var].append( ( d[c] , c ) )\n",
    "    BC[var] = sorted(BC[var], key=lambda tup: tup[0], reverse=True)[0][1]\n",
    "BC"
   ]
  },
  {
   "cell_type": "code",
   "execution_count": 18,
   "metadata": {},
   "outputs": [
    {
     "data": {
      "text/plain": [
       "{'Offp': 'Canada',\n",
       " 'Offshoring': 'Canada',\n",
       " 'Offshoring_1': 'Canada',\n",
       " 'Offshoring_2': 'Canada'}"
      ]
     },
     "execution_count": 18,
     "metadata": {},
     "output_type": "execute_result"
    }
   ],
   "source": [
    "#Betweenness centrality digraph, function_weights()\n",
    "BC = {}\n",
    "for var in Variables:\n",
    "    BC[var] = []\n",
    "    for year in range(1995, 2012):\n",
    "        multidigraph_year(data, var, year)\n",
    "        function_weights()\n",
    "        d = nx.betweenness_centrality(graph)\n",
    "        c = [p for p in d.keys() if d[p]== max(d.values())][0]\n",
    "        BC[var].append( ( d[c] , c ) )\n",
    "    BC[var] = sorted(BC[var], key=lambda tup: tup[0], reverse=True)[0][1]\n",
    "BC"
   ]
  },
  {
   "cell_type": "code",
   "execution_count": 72,
   "metadata": {},
   "outputs": [
    {
     "data": {
      "text/plain": [
       "{'high': (0.028110256966545913, 'Japan', 1995),\n",
       " 'low': (0.028110256966545913, 'Japan', 1995)}"
      ]
     },
     "execution_count": 72,
     "metadata": {},
     "output_type": "execute_result"
    }
   ],
   "source": [
    "BC_hl = {}\n",
    "for t in ['high', 'low']:\n",
    "    BC_hl[t] = []\n",
    "    for year in range(1995,2012):\n",
    "        multigraph_year(frames[t], 'Offshoring', year)\n",
    "        d = nx.betweenness_centrality(graph, weight='weight')\n",
    "        c = [p for p in d.keys() if d[p]== max(d.values())][0]\n",
    "        BC_hl[t].append( (d[c],c, year) )\n",
    "    BC_hl[t] = sorted(BC_hl[t], key=lambda tup: tup[0], reverse=True)[0]\n",
    "BC_hl"
   ]
  },
  {
   "cell_type": "markdown",
   "metadata": {},
   "source": [
    "$*$ Notice that Eigenvector, pagerank centralities are trivial for these networks\n",
    "$\\\\*$ Notice that Katz, Katz numpy, communicability betweenness centralities aren't implemented for multigraphs"
   ]
  },
  {
   "cell_type": "code",
   "execution_count": 228,
   "metadata": {},
   "outputs": [
    {
     "data": {
      "text/plain": [
       "{'Offp': 'Poland',\n",
       " 'Offshoring': 'Poland',\n",
       " 'Offshoring_1': 'Poland',\n",
       " 'Offshoring_2': 'Poland'}"
      ]
     },
     "execution_count": 228,
     "metadata": {},
     "output_type": "execute_result"
    }
   ],
   "source": [
    "#closeness centrality graph\n",
    "CC = {}\n",
    "for var in Variables:\n",
    "    CC[var] = []\n",
    "    for year in range(1995, 2012):\n",
    "        multigraph_year(var, year)\n",
    "        d = nx.closeness_centrality(graph)\n",
    "        c = [p for p in d.keys() if d[p]== max(d.values())][0]\n",
    "        CC[var].append( ( d[c] , c ) )\n",
    "    CC[var] = sorted(CC[var], key=lambda tup: tup[0], reverse=True)[0][1]\n",
    "CC"
   ]
  },
  {
   "cell_type": "code",
   "execution_count": 229,
   "metadata": {},
   "outputs": [
    {
     "data": {
      "text/plain": [
       "{'Offp': 'Germany',\n",
       " 'Offshoring': 'Germany',\n",
       " 'Offshoring_1': 'Germany',\n",
       " 'Offshoring_2': 'Germany'}"
      ]
     },
     "execution_count": 229,
     "metadata": {},
     "output_type": "execute_result"
    }
   ],
   "source": [
    "#closeness centrality digraph\n",
    "CC2 = {}\n",
    "for var in Variables:\n",
    "    CC2[var] = []\n",
    "    for year in range(1995, 2012):\n",
    "        multidigraph_year(var, year)\n",
    "        d = nx.closeness_centrality(graph)\n",
    "        c = [p for p in d.keys() if d[p]== max(d.values())][0]\n",
    "        CC2[var].append( ( d[c] , c ) )\n",
    "    CC2[var] = sorted(CC2[var], key=lambda tup: tup[0], reverse=True)[0][1]\n",
    "CC2"
   ]
  },
  {
   "cell_type": "code",
   "execution_count": 230,
   "metadata": {},
   "outputs": [
    {
     "data": {
      "text/plain": [
       "{'Offp': 'USA',\n",
       " 'Offshoring': 'USA',\n",
       " 'Offshoring_1': 'USA',\n",
       " 'Offshoring_2': 'China'}"
      ]
     },
     "execution_count": 230,
     "metadata": {},
     "output_type": "execute_result"
    }
   ],
   "source": [
    "#Current flow closeness graph\n",
    "CFC = {}\n",
    "for var in Variables:\n",
    "    CFC[var] = []\n",
    "    for year in range(1995, 2012):\n",
    "        multigraph_year(var, year)\n",
    "        d = nx.current_flow_closeness_centrality(graph)\n",
    "        c = [p for p in d.keys() if d[p]== max(d.values())][0]\n",
    "        CFC[var].append( ( d[c] , c ) )\n",
    "    CFC[var] = sorted(CFC[var], key=lambda tup: tup[0], reverse=True)[0][1]\n",
    "CFC"
   ]
  },
  {
   "cell_type": "code",
   "execution_count": 231,
   "metadata": {},
   "outputs": [
    {
     "data": {
      "text/plain": [
       "{'Offp': ('Slovenia', 'Timor-Leste'),\n",
       " 'Offshoring': ('Slovenia', 'Timor-Leste'),\n",
       " 'Offshoring_1': ('Slovenia', 'Timor-Leste'),\n",
       " 'Offshoring_2': ('Slovenia', 'Timor-Leste')}"
      ]
     },
     "execution_count": 231,
     "metadata": {},
     "output_type": "execute_result"
    }
   ],
   "source": [
    "#Edge betweenness centrality graph\n",
    "EBC = {}\n",
    "for var in Variables:\n",
    "    EBC[var] = []\n",
    "    for year in range(1995, 2012):\n",
    "        multigraph_year(var, year)\n",
    "        d = nx.edge_betweenness_centrality(graph)\n",
    "        c = [p for p in d.keys() if d[p]== max(d.values())][0]\n",
    "        EBC[var].append( ( d[c] , c ) )\n",
    "    EBC[var] = sorted(EBC[var], key=lambda tup: tup[0], reverse=True)[0][1]\n",
    "EBC"
   ]
  },
  {
   "cell_type": "code",
   "execution_count": 232,
   "metadata": {},
   "outputs": [
    {
     "data": {
      "text/plain": [
       "{'Offp': ('Slovenia', 'Timor-Leste'),\n",
       " 'Offshoring': ('Slovenia', 'Timor-Leste'),\n",
       " 'Offshoring_1': ('Slovenia', 'Timor-Leste'),\n",
       " 'Offshoring_2': ('Slovenia', 'Timor-Leste')}"
      ]
     },
     "execution_count": 232,
     "metadata": {},
     "output_type": "execute_result"
    }
   ],
   "source": [
    "#Edge betweenness centrality digraph  (Costo en el camino más corto)\n",
    "EBC2 = {}\n",
    "for var in Variables:\n",
    "    EBC2[var] = []\n",
    "    for year in range(1995, 2012):\n",
    "        multidigraph_year(var, year)\n",
    "        d = nx.edge_betweenness_centrality(graph)\n",
    "        c = [p for p in d.keys() if d[p]== max(d.values())][0]\n",
    "        EBC2[var].append( ( d[c] , c ) )\n",
    "    EBC2[var] = sorted(EBC2[var], key=lambda tup: tup[0], reverse=True)[0][1]\n",
    "EBC2"
   ]
  },
  {
   "cell_type": "code",
   "execution_count": 233,
   "metadata": {},
   "outputs": [
    {
     "data": {
      "text/plain": [
       "(0.0009514490323471079,\n",
       " ('Indonesia', 'Timor-Leste'),\n",
       " 3.0024620188554615e-05,\n",
       " ('Peru', 'Sri Lanka'))"
      ]
     },
     "execution_count": 233,
     "metadata": {},
     "output_type": "execute_result"
    }
   ],
   "source": [
    "multidigraph_year('Offshoring' , 1995)\n",
    "d = nx.edge_betweenness_centrality(graph)\n",
    "c = [p for p in d.keys() if d[p]== max(d.values())][0]\n",
    "c1 = [p for p in d.keys() if d[p]== min(d.values())][0]\n",
    "\n",
    "d[c], c, d[c1], c1"
   ]
  },
  {
   "cell_type": "code",
   "execution_count": 234,
   "metadata": {},
   "outputs": [
    {
     "data": {
      "text/plain": [
       "{'Offp': 'Russian Federation',\n",
       " 'Offshoring': 'Russian Federation',\n",
       " 'Offshoring_1': 'Russian Federation',\n",
       " 'Offshoring_2': 'Russian Federation'}"
      ]
     },
     "execution_count": 234,
     "metadata": {},
     "output_type": "execute_result"
    }
   ],
   "source": [
    "#Current Flow Betweenness centrality graph\n",
    "CFB = {}\n",
    "for var in Variables:\n",
    "    CFB[var] = []\n",
    "    for year in range(1995, 2012):\n",
    "        multigraph_year(var, year)\n",
    "        d = nx.current_flow_betweenness_centrality(graph)\n",
    "        c = [p for p in d.keys() if d[p]== max(d.values())][0]\n",
    "        CFB[var].append( ( d[c] , c ) )\n",
    "    CFB[var] = sorted(CFB[var], key=lambda tup: tup[0], reverse=True)[0][1]\n",
    "CFB"
   ]
  },
  {
   "cell_type": "code",
   "execution_count": 235,
   "metadata": {},
   "outputs": [
    {
     "data": {
      "text/plain": [
       "{'Offp': ('Russian Federation', 'USA'),\n",
       " 'Offshoring': ('Russian Federation', 'USA'),\n",
       " 'Offshoring_1': ('Russian Federation', 'USA'),\n",
       " 'Offshoring_2': ('Brunei Darussalam', 'China, Hong Kong SAR')}"
      ]
     },
     "execution_count": 235,
     "metadata": {},
     "output_type": "execute_result"
    }
   ],
   "source": [
    "#Edge Current Flow Betweenness centrality graph\n",
    "ECFB = {}\n",
    "for var in Variables:\n",
    "    ECFB[var] = []\n",
    "    for year in range(1995, 2012):\n",
    "        multigraph_year(var, year)\n",
    "        d = nx.edge_current_flow_betweenness_centrality(graph)\n",
    "        c = [p for p in d.keys() if d[p]== max(d.values())][0]\n",
    "        ECFB[var].append( ( d[c] , c ) )\n",
    "    ECFB[var] = sorted(ECFB[var], key=lambda tup: tup[0], reverse=True)[0][1]\n",
    "ECFB"
   ]
  },
  {
   "cell_type": "code",
   "execution_count": 236,
   "metadata": {},
   "outputs": [
    {
     "data": {
      "text/plain": [
       "{'Offp': 'Canada',\n",
       " 'Offshoring': 'Canada',\n",
       " 'Offshoring_1': 'Canada',\n",
       " 'Offshoring_2': 'Canada'}"
      ]
     },
     "execution_count": 236,
     "metadata": {},
     "output_type": "execute_result"
    }
   ],
   "source": [
    "#load centrality Digraph\n",
    "LC = {}\n",
    "for var in Variables:\n",
    "    LC[var] = []\n",
    "    for year in range(1995, 2012):\n",
    "        multidigraph_year(var, year)\n",
    "        d = nx.load_centrality(graph)\n",
    "        c = [p for p in d.keys() if d[p]== max(d.values())][0]\n",
    "        LC[var].append( ( d[c] , c ) )\n",
    "    LC[var] = sorted(LC[var], key=lambda tup: tup[0], reverse=True)[0][1]\n",
    "LC"
   ]
  },
  {
   "cell_type": "code",
   "execution_count": 237,
   "metadata": {},
   "outputs": [
    {
     "data": {
      "text/plain": [
       "{'Offp': 'Canada',\n",
       " 'Offshoring': 'Canada',\n",
       " 'Offshoring_1': 'Canada',\n",
       " 'Offshoring_2': 'Canada'}"
      ]
     },
     "execution_count": 237,
     "metadata": {},
     "output_type": "execute_result"
    }
   ],
   "source": [
    "#harmonic centrality Digraph\n",
    "HC = {}\n",
    "for var in Variables:\n",
    "    HC[var] = []\n",
    "    for year in range(1995, 2012):\n",
    "        multidigraph_year(var, year)\n",
    "        d = nx.load_centrality(graph)\n",
    "        c = [p for p in d.keys() if d[p]== max(d.values())][0]\n",
    "        HC[var].append( ( d[c] , c ) )\n",
    "    HC[var] = sorted(HC[var], key=lambda tup: tup[0], reverse=True)[0][1]\n",
    "HC"
   ]
  },
  {
   "cell_type": "code",
   "execution_count": 320,
   "metadata": {},
   "outputs": [
    {
     "data": {
      "text/plain": [
       "('Germany', 0.9732620320855615)"
      ]
     },
     "execution_count": 320,
     "metadata": {},
     "output_type": "execute_result"
    }
   ],
   "source": [
    "multigraph_year('Offshoring' , 1995)\n",
    "\n",
    "d = nx.closeness_centrality(graph)\n",
    "c = [p for p in d.keys() if d[p]== max(d.values())][0]\n",
    "c , d[c]"
   ]
  },
  {
   "cell_type": "code",
   "execution_count": 286,
   "metadata": {},
   "outputs": [
    {
     "data": {
      "text/plain": [
       "('Timor-Leste', 75739.35047963695)"
      ]
     },
     "execution_count": 286,
     "metadata": {},
     "output_type": "execute_result"
    }
   ],
   "source": [
    "c = [p for p in d.keys() if d[p]== min(d.values())][0]\n",
    "c , d[c]"
   ]
  },
  {
   "cell_type": "code",
   "execution_count": 323,
   "metadata": {
    "collapsed": true
   },
   "outputs": [],
   "source": [
    "function_weights()"
   ]
  },
  {
   "cell_type": "code",
   "execution_count": 324,
   "metadata": {},
   "outputs": [
    {
     "data": {
      "text/plain": [
       "[('Peru', 'Russian Federation', {'weight': 9.282801841780435e-06}),\n",
       " ('Peru', 'Russian Federation', {'weight': 2.116777164246412e-05}),\n",
       " ('Peru', 'Russian Federation', {'weight': 8.650959386719794e-07}),\n",
       " ('Peru', 'Russian Federation', {'weight': 2.968616914515817e-06}),\n",
       " ('Peru', 'Russian Federation', {'weight': 2.4097151445055566e-05}),\n",
       " ('Peru', 'Russian Federation', {'weight': 9.099366486691753e-07}),\n",
       " ('Peru', 'Russian Federation', {'weight': 0.0017302393218624939}),\n",
       " ('Peru', 'Russian Federation', {'weight': 5.176024325539856e-06}),\n",
       " ('Peru', 'Russian Federation', {'weight': 8.93555005556553e-06}),\n",
       " ('Peru', 'Russian Federation', {'weight': 1.7672672978885797e-05}),\n",
       " ('Peru', 'Russian Federation', {'weight': 0.00024126814312404}),\n",
       " ('Peru', 'Russian Federation', {'weight': 2.433781959921718e-05}),\n",
       " ('Peru', 'Russian Federation', {'weight': 6.500461654555722e-05}),\n",
       " ('Peru', 'Russian Federation', {'weight': 0.00028322647520856784}),\n",
       " ('Peru', 'Russian Federation', {'weight': 0.00012321345570863419}),\n",
       " ('Peru', 'Russian Federation', {'weight': 5.887856165038828e-06}),\n",
       " ('Peru', 'Russian Federation', {'weight': 0.00010546775806912025}),\n",
       " ('Peru', 'Russian Federation', {'weight': 2.6936500241820495e-05}),\n",
       " ('Peru', 'Russian Federation', {'weight': 2.6329513900379284e-05}),\n",
       " ('Peru', 'Russian Federation', {'weight': 1.167208151974674e-05}),\n",
       " ('Peru', 'Russian Federation', {'weight': 9.725308978962883e-07}),\n",
       " ('Peru', 'Russian Federation', {'weight': 3.124054874714695e-06}),\n",
       " ('Peru', 'Russian Federation', {'weight': 3.077188459126749e-06}),\n",
       " ('Peru', 'Russian Federation', {'weight': 2.1136919783276784e-05}),\n",
       " ('Peru', 'Russian Federation', {'weight': 5.11153259994221e-06}),\n",
       " ('Peru', 'Russian Federation', {'weight': 4.120427288795657e-05}),\n",
       " ('Peru', 'Russian Federation', {'weight': 0.00026356244791029946}),\n",
       " ('Peru', 'Russian Federation', {'weight': 3.9591269197893415e-05}),\n",
       " ('Peru', 'Russian Federation', {'weight': 2.321532146861386e-06}),\n",
       " ('Peru', 'Russian Federation', {'weight': 2.9251590257026535e-06}),\n",
       " ('Peru', 'Russian Federation', {'weight': 2.6088194052459944e-06}),\n",
       " ('Peru', 'Russian Federation', {'weight': 2.114077939785725e-06}),\n",
       " ('Peru', 'Russian Federation', {'weight': 8.252468932759226e-06}),\n",
       " ('Peru', 'Russian Federation', {'weight': 1}),\n",
       " ('Peru', 'USA', {'weight': 4.7570013638160045e-09}),\n",
       " ('Peru', 'USA', {'weight': 5.1380838883476975e-09}),\n",
       " ('Peru', 'USA', {'weight': 3.629383921729677e-09}),\n",
       " ('Peru', 'USA', {'weight': 6.329802140195898e-09}),\n",
       " ('Peru', 'USA', {'weight': 9.213181361586016e-09}),\n",
       " ('Peru', 'USA', {'weight': 2.05061285980224e-08}),\n",
       " ('Peru', 'USA', {'weight': 2.6334321520060767e-07}),\n",
       " ('Peru', 'USA', {'weight': 5.993931362205749e-09}),\n",
       " ('Peru', 'USA', {'weight': 7.560955869825121e-09}),\n",
       " ('Peru', 'USA', {'weight': 7.514945165577941e-08}),\n",
       " ('Peru', 'USA', {'weight': 4.7992250462300376e-08}),\n",
       " ('Peru', 'USA', {'weight': 2.5796135849346037e-08}),\n",
       " ('Peru', 'USA', {'weight': 4.675005333776799e-09}),\n",
       " ('Peru', 'USA', {'weight': 1.1640205486025984e-07}),\n",
       " ('Peru', 'USA', {'weight': 2.7916022021377967e-08}),\n",
       " ('Peru', 'USA', {'weight': 1.754992031375435e-08}),\n",
       " ('Peru', 'USA', {'weight': 1.6046939650369477e-07}),\n",
       " ('Peru', 'USA', {'weight': 1.611409286798828e-08}),\n",
       " ('Peru', 'USA', {'weight': 7.806571573409367e-09}),\n",
       " ('Peru', 'USA', {'weight': 2.9304232396848337e-09}),\n",
       " ('Peru', 'USA', {'weight': 4.067629602129937e-09}),\n",
       " ('Peru', 'USA', {'weight': 1.5141141146997997e-08}),\n",
       " ('Peru', 'USA', {'weight': 6.262169640002422e-09}),\n",
       " ('Peru', 'USA', {'weight': 6.115395313626743e-08}),\n",
       " ('Peru', 'USA', {'weight': 9.810277526707632e-08}),\n",
       " ('Peru', 'USA', {'weight': 1.999135165132031e-07}),\n",
       " ('Peru', 'USA', {'weight': 6.387680994766527e-08}),\n",
       " ('Peru', 'USA', {'weight': 1.0838992055753697e-08}),\n",
       " ('Peru', 'USA', {'weight': 2.22740689177942e-09}),\n",
       " ('Peru', 'USA', {'weight': 5.680576896753042e-09}),\n",
       " ('Peru', 'USA', {'weight': 1.1362304675625503e-08}),\n",
       " ('Peru', 'USA', {'weight': 8.055164449521594e-09}),\n",
       " ('Peru', 'USA', {'weight': 2.199535024709526e-08}),\n",
       " ('Peru', 'USA', {'weight': 1}),\n",
       " ('Peru', 'USA', {'weight': 3.353978471037818e-08}),\n",
       " ('Peru', 'USA', {'weight': 2.803438312070678e-09}),\n",
       " ('Peru', 'USA', {'weight': 1.0485201444411288e-08}),\n",
       " ('Peru', 'USA', {'weight': 5.145373637035137e-08}),\n",
       " ('Peru', 'USA', {'weight': 6.947776840269013e-08}),\n",
       " ('Peru', 'USA', {'weight': 2.306387087675294e-08}),\n",
       " ('Peru', 'USA', {'weight': 5.028286904406681e-10}),\n",
       " ('Peru', 'USA', {'weight': 5.410593390103187e-09}),\n",
       " ('Peru', 'USA', {'weight': 3.1786368935140185e-08}),\n",
       " ('Peru', 'USA', {'weight': 9.830373866166355e-09}),\n",
       " ('Peru', 'USA', {'weight': 9.922262858122528e-10}),\n",
       " ('Peru', 'USA', {'weight': 1.4923579081278243e-09}),\n",
       " ('Peru', 'USA', {'weight': 3.3714402383172073e-09}),\n",
       " ('Peru', 'USA', {'weight': 1.0081554668536363e-08}),\n",
       " ('Peru', 'USA', {'weight': 4.886295266584619e-09}),\n",
       " ('Peru', 'USA', {'weight': 2.165704861736882e-09}),\n",
       " ('Peru', 'USA', {'weight': 1.1404818968554873e-08}),\n",
       " ('Peru', 'USA', {'weight': 8.193305245974754e-09}),\n",
       " ('Peru', 'USA', {'weight': 1.6559400861980028e-09}),\n",
       " ('Peru', 'USA', {'weight': 4.648882860426565e-09}),\n",
       " ('Peru', 'USA', {'weight': 3.6863874863080415e-08}),\n",
       " ('Peru', 'USA', {'weight': 6.663544532727131e-08}),\n",
       " ('Peru', 'USA', {'weight': 1.2414876524147852e-08}),\n",
       " ('Peru', 'USA', {'weight': 3.2314878996403496e-07}),\n",
       " ('Peru', 'USA', {'weight': 7.852321283667477e-07}),\n",
       " ('Peru', 'USA', {'weight': 1.075798519538788e-08}),\n",
       " ('Peru', 'USA', {'weight': 3.1310538595821705e-07}),\n",
       " ('Peru', 'USA', {'weight': 6.603404684447214e-07}),\n",
       " ('Peru', 'USA', {'weight': 5.520390266193626e-08}),\n",
       " ('Peru', 'USA', {'weight': 6.262569972538692e-09}),\n",
       " ('Peru', 'USA', {'weight': 1.1746249772659243e-07}),\n",
       " ('Peru', 'USA', {'weight': 9.315073162448912e-08}),\n",
       " ('Peru', 'USA', {'weight': 3.7935856368068774e-08}),\n",
       " ('Peru', 'USA', {'weight': 1}),\n",
       " ('Peru', 'Viet Nam', {'weight': 6.564139025075412e-05}),\n",
       " ('Peru', 'Viet Nam', {'weight': 0.0004506587487171499}),\n",
       " ('Peru', 'Viet Nam', {'weight': 2.7389351035196474e-05}),\n",
       " ('Peru', 'Viet Nam', {'weight': 0.00026578256190180443}),\n",
       " ('Peru', 'Viet Nam', {'weight': 0.0008756702880404503}),\n",
       " ('Peru', 'Viet Nam', {'weight': 0.0008095977851513241}),\n",
       " ('Peru', 'Viet Nam', {'weight': 1}),\n",
       " ('Peru', 'Viet Nam', {'weight': 0.0002124461285387343}),\n",
       " ('Peru', 'Viet Nam', {'weight': 0.0005531712205590008}),\n",
       " ('Peru', 'Viet Nam', {'weight': 0.007092928778757995}),\n",
       " ('Peru', 'Viet Nam', {'weight': 0.003780904064194272}),\n",
       " ('Peru', 'Viet Nam', {'weight': 0.00010011682241994709}),\n",
       " ('Peru', 'Viet Nam', {'weight': 0.0011001497086235456}),\n",
       " ('Peru', 'Viet Nam', {'weight': 0.0015163927605053218}),\n",
       " ('Peru', 'Viet Nam', {'weight': 0.0004484196208433455}),\n",
       " ('Peru', 'Viet Nam', {'weight': 0.001279642920068128}),\n",
       " ('Peru', 'Viet Nam', {'weight': 0.0025652941436062875}),\n",
       " ('Peru', 'Viet Nam', {'weight': 4.550014765469654e-05}),\n",
       " ('Peru', 'Viet Nam', {'weight': 0.0038610625758815384}),\n",
       " ('Peru', 'Viet Nam', {'weight': 3.337405626143486e-05}),\n",
       " ('Peru', 'Viet Nam', {'weight': 0.0009278790330360065}),\n",
       " ('Peru', 'Viet Nam', {'weight': 5.0647605172646226e-05}),\n",
       " ('Peru', 'Viet Nam', {'weight': 0.000575926124085698}),\n",
       " ('Peru', 'Viet Nam', {'weight': 0.007604743937251921}),\n",
       " ('Peru', 'Viet Nam', {'weight': 0.01832778921113292}),\n",
       " ('Peru', 'Viet Nam', {'weight': 0.07805056797361672}),\n",
       " ('Peru', 'Viet Nam', {'weight': 1}),\n",
       " ('Peru', 'Viet Nam', {'weight': 0.0025414286196312717}),\n",
       " ('Peru', 'Viet Nam', {'weight': 0.00044386629456094026}),\n",
       " ('Peru', 'Viet Nam', {'weight': 0.00024693661404815917}),\n",
       " ('Peru', 'Viet Nam', {'weight': 0.0008153060015148521}),\n",
       " ('Peru', 'Viet Nam', {'weight': 0.005032364363351475}),\n",
       " ('Peru', 'Viet Nam', {'weight': 0.0004760832422131827}),\n",
       " ('Peru', 'Viet Nam', {'weight': 1}),\n",
       " ('Peru', 'Burundi', {'weight': 0.00373442367601246}),\n",
       " ('Peru', 'Burundi', {'weight': 0.02350490196078432}),\n",
       " ('Peru', 'Burundi', {'weight': 0.0021599099099099094}),\n",
       " ('Peru', 'Burundi', {'weight': 0.021030701754385962}),\n",
       " ('Peru', 'Burundi', {'weight': 0.04994791666666667}),\n",
       " ('Peru', 'Burundi', {'weight': 0.04994791666666667}),\n",
       " ('Peru', 'Burundi', {'weight': 1}),\n",
       " ('Peru', 'Burundi', {'weight': 0.011752450980392156}),\n",
       " ('Peru', 'Burundi', {'weight': 0.03632575757575758}),\n",
       " ('Peru', 'Burundi', {'weight': 0.39958333333333335}),\n",
       " ('Peru', 'Burundi', {'weight': 0.19979166666666662}),\n",
       " ('Peru', 'Burundi', {'weight': 0.005189393939393939}),\n",
       " ('Peru', 'Burundi', {'weight': 0.05708333333333333}),\n",
       " ('Peru', 'Burundi', {'weight': 0.07991666666666668}),\n",
       " ('Peru', 'Burundi', {'weight': 0.02350490196078432}),\n",
       " ('Peru', 'Burundi', {'weight': 0.06659722222222221}),\n",
       " ('Peru', 'Burundi', {'weight': 0.13319444444444442}),\n",
       " ('Peru', 'Burundi', {'weight': 0.0023784722222222232}),\n",
       " ('Peru', 'Burundi', {'weight': 0.19979166666666662}),\n",
       " ('Peru', 'Burundi', {'weight': 0.0017525584795321635}),\n",
       " ('Peru', 'Burundi', {'weight': 0.05708333333333333}),\n",
       " ('Peru', 'Burundi', {'weight': 0.010799549549549549}),\n",
       " ('Peru', 'Burundi', {'weight': 0.03329861111111112}),\n",
       " ('Peru', 'Burundi', {'weight': 0.39958333333333335}),\n",
       " ('Peru', 'Burundi', {'weight': 1}),\n",
       " ('Peru', 'Burundi', {'weight': 1}),\n",
       " ('Peru', 'Burundi', {'weight': 1}),\n",
       " ('Peru', 'Burundi', {'weight': 0.13319444444444442}),\n",
       " ('Peru', 'Burundi', {'weight': 0.02350490196078432}),\n",
       " ('Peru', 'Burundi', {'weight': 0.012889784946236561}),\n",
       " ('Peru', 'Burundi', {'weight': 0.044398148148148145}),\n",
       " ('Peru', 'Burundi', {'weight': 0.39958333333333335}),\n",
       " ('Peru', 'Burundi', {'weight': 0.030737179487179495}),\n",
       " ('Peru', 'Burundi', {'weight': 1}),\n",
       " ('Peru', 'Mauritius', {'weight': 0.2114065180102915}),\n",
       " ('Peru', 'Mauritius', {'weight': 0.1860377358490566}),\n",
       " ('Peru', 'Mauritius', {'weight': 0.29068396226415094}),\n",
       " ('Peru', 'Mauritius', {'weight': 1.5503144654088048}),\n",
       " ('Peru', 'Mauritius', {'weight': 4.650943396226415}),\n",
       " ('Peru', 'Mauritius', {'weight': 1}),\n",
       " ('Peru', 'Mauritius', {'weight': 4.650943396226415}),\n",
       " ('Peru', 'Mauritius', {'weight': 1.1627358490566035}),\n",
       " ('Peru', 'Mauritius', {'weight': 1}),\n",
       " ('Peru', 'Mauritius', {'weight': 1}),\n",
       " ('Peru', 'Mauritius', {'weight': 2.325471698113207}),\n",
       " ('Peru', 'Mauritius', {'weight': 4.650943396226415}),\n",
       " ('Peru', 'Mauritius', {'weight': 0.2214734950584007}),\n",
       " ('Peru', 'Mauritius', {'weight': 1.1627358490566035}),\n",
       " ('Peru', 'Mauritius', {'weight': 0.08305256064690027}),\n",
       " ('Peru', 'Mauritius', {'weight': 0.9301886792452831}),\n",
       " ('Peru', 'Mauritius', {'weight': 0.4650943396226416}),\n",
       " ('Peru', 'Mauritius', {'weight': 0.1550314465408805}),\n",
       " ('Peru', 'Mauritius', {'weight': 1.5503144654088048}),\n",
       " ('Peru', 'Mauritius', {'weight': 1.5503144654088048}),\n",
       " ('Peru', 'Mauritius', {'weight': 0.08612858141160026}),\n",
       " ('Peru', 'Mauritius', {'weight': 0.29068396226415094}),\n",
       " ('Peru', 'Mauritius', {'weight': 0.07382449835280022}),\n",
       " ('Peru', 'Mauritius', {'weight': 0.05471698113207545}),\n",
       " ('Peru', 'Mauritius', {'weight': 0.24478649453823237}),\n",
       " ('Peru', 'Mauritius', {'weight': 1}),\n",
       " ('Peru', 'Mauritius', {'weight': 2.325471698113207}),\n",
       " ('Peru', 'Mauritius', {'weight': 0.06459643605870018}),\n",
       " ('Peru', 'Mauritius', {'weight': 0.031214385209573255}),\n",
       " ('Peru', 'Mauritius', {'weight': 0.02768418688230008}),\n",
       " ('Peru', 'Mauritius', {'weight': 0.02672955974842767}),\n",
       " ('Peru', 'Mauritius', {'weight': 0.02360884972703764}),\n",
       " ('Peru', 'Mauritius', {'weight': 0.1937893081761006}),\n",
       " ('Peru', 'Mauritius', {'weight': 1}),\n",
       " ('Peru', 'Portugal', {'weight': 3.3569809005428524e-06}),\n",
       " ('Peru', 'Portugal', {'weight': 3.184375005785624e-06}),\n",
       " ('Peru', 'Portugal', {'weight': 2.6271414890710375e-06}),\n",
       " ('Peru', 'Portugal', {'weight': 4.18456489829528e-06}),\n",
       " ('Peru', 'Portugal', {'weight': 4.32490885927631e-06}),\n",
       " ('Peru', 'Portugal', {'weight': 1.937976178005805e-05}),\n",
       " ('Peru', 'Portugal', {'weight': 0.000168625032815055}),\n",
       " ('Peru', 'Portugal', {'weight': 3.815850232768278e-06}),\n",
       " ('Peru', 'Portugal', {'weight': 4.985049034548485e-06}),\n",
       " ('Peru', 'Portugal', {'weight': 4.905784517683187e-05}),\n",
       " ('Peru', 'Portugal', {'weight': 3.058670326009155e-05}),\n",
       " ('Peru', 'Portugal', {'weight': 1.6759644505999175e-05}),\n",
       " ('Peru', 'Portugal', {'weight': 2.8580571454537853e-06}),\n",
       " ('Peru', 'Portugal', {'weight': 0.00011512676107051674}),\n",
       " ('Peru', 'Portugal', {'weight': 4.636035963274795e-05}),\n",
       " ('Peru', 'Portugal', {'weight': 0.0001691877885800837}),\n",
       " ('Peru', 'Portugal', {'weight': 0.0004564219414499273}),\n",
       " ('Peru', 'Portugal', {'weight': 1.2529078384273291e-05}),\n",
       " ('Peru', 'Portugal', {'weight': 4.723401763288007e-06}),\n",
       " ('Peru', 'Portugal', {'weight': 2.0295216917579063e-06}),\n",
       " ('Peru', 'Portugal', {'weight': 1.4543731951635649e-05}),\n",
       " ('Peru', 'Portugal', {'weight': 1.2053217490627167e-05}),\n",
       " ('Peru', 'Portugal', {'weight': 1.6403064023483382e-05}),\n",
       " ('Peru', 'Portugal', {'weight': 7.505605541367393e-05}),\n",
       " ('Peru', 'Portugal', {'weight': 0.00012979841061827984}),\n",
       " ('Peru', 'Portugal', {'weight': 0.00013341810557655182}),\n",
       " ('Peru', 'Portugal', {'weight': 3.876449085094611e-05}),\n",
       " ('Peru', 'Portugal', {'weight': 7.000917814836906e-06}),\n",
       " ('Peru', 'Portugal', {'weight': 1.414191627449003e-06}),\n",
       " ('Peru', 'Portugal', {'weight': 4.9998275272143235e-06}),\n",
       " ('Peru', 'Portugal', {'weight': 1.0643540528100023e-05}),\n",
       " ('Peru', 'Portugal', {'weight': 5.89785099335673e-06}),\n",
       " ('Peru', 'Portugal', {'weight': 1.5661151437603507e-05}),\n",
       " ('Peru', 'Portugal', {'weight': 1}),\n",
       " ('Peru', 'Portugal', {'weight': 4.302754796498294e-06}),\n",
       " ('Peru', 'Portugal', {'weight': 0.0018718707478269387}),\n",
       " ('Peru', 'Portugal', {'weight': 1.1241471922521283e-06}),\n",
       " ('Peru', 'Portugal', {'weight': 1.0291180808215905e-05}),\n",
       " ('Peru', 'Portugal', {'weight': 6.58191211848783e-06}),\n",
       " ('Peru', 'Portugal', {'weight': 1.9533925141233536e-05}),\n",
       " ('Peru', 'Portugal', {'weight': 0.0007068150181813292}),\n",
       " ('Peru', 'Portugal', {'weight': 0.00011351530270325386}),\n",
       " ('Peru', 'Portugal', {'weight': 0.00015588913656296212}),\n",
       " ('Peru', 'Portugal', {'weight': 5.694307747009031e-05}),\n",
       " ('Peru', 'Portugal', {'weight': 0.0010098467568571653}),\n",
       " ('Peru', 'Portugal', {'weight': 0.00019828072549877936}),\n",
       " ('Peru', 'Portugal', {'weight': 3.2184326560844584e-05}),\n",
       " ('Peru', 'Portugal', {'weight': 0.0001967289400132275}),\n",
       " ('Peru', 'Portugal', {'weight': 0.00021631079696662802}),\n",
       " ('Peru', 'Portugal', {'weight': 7.968679365043702e-05}),\n",
       " ('Peru', 'Portugal', {'weight': 0.00047232059872722744}),\n",
       " ('Peru', 'Portugal', {'weight': 0.00015081118654821008}),\n",
       " ('Peru', 'Portugal', {'weight': 0.0007550221388655437}),\n",
       " ('Peru', 'Portugal', {'weight': 1.6064726608750487e-05}),\n",
       " ('Peru', 'Portugal', {'weight': 4.09441409987606e-05}),\n",
       " ('Peru', 'Portugal', {'weight': 7.591481165516235e-06}),\n",
       " ('Peru', 'Portugal', {'weight': 0.0017043707510055052}),\n",
       " ('Peru', 'Portugal', {'weight': 0.0020822989391128402}),\n",
       " ('Peru', 'Portugal', {'weight': 0.002955578653390931}),\n",
       " ('Peru', 'Portugal', {'weight': 0.0009078969306446819}),\n",
       " ('Peru', 'Portugal', {'weight': 0.012685362833763482}),\n",
       " ('Peru', 'Portugal', {'weight': 0.0132863065025831}),\n",
       " ('Peru', 'Portugal', {'weight': 0.00013449369829782645}),\n",
       " ('Peru', 'Portugal', {'weight': 0.00020527073191820423}),\n",
       " ('Peru', 'Portugal', {'weight': 0.0007518184677399165}),\n",
       " ('Peru', 'Portugal', {'weight': 3.4661947607833096e-05}),\n",
       " ('Peru', 'Portugal', {'weight': 0.0003853018458705396}),\n",
       " ('Peru', 'Portugal', {'weight': 1}),\n",
       " ('Peru', 'Venezuela', {'weight': 4.2084194055766595e-08}),\n",
       " ('Peru', 'Venezuela', {'weight': 2.039029098283566e-07}),\n",
       " ('Peru', 'Venezuela', {'weight': 7.019077194192909e-08}),\n",
       " ('Peru', 'Venezuela', {'weight': 1.1092508650666635e-07}),\n",
       " ('Peru', 'Venezuela', {'weight': 2.676274904079281e-07}),\n",
       " ('Peru', 'Venezuela', {'weight': 1.89296956183905e-07}),\n",
       " ('Peru', 'Venezuela', {'weight': 1.238732622012423e-05}),\n",
       " ('Peru', 'Venezuela', {'weight': 5.8568127745069526e-08}),\n",
       " ('Peru', 'Venezuela', {'weight': 4.062499547779621e-08}),\n",
       " ('Peru', 'Venezuela', {'weight': 5.328231229600962e-07}),\n",
       " ('Peru', 'Venezuela', {'weight': 1.7647972144549766e-06}),\n",
       " ('Peru', 'Venezuela', {'weight': 4.991924223676645e-07}),\n",
       " ('Peru', 'Venezuela', {'weight': 4.928136464849463e-07}),\n",
       " ('Peru', 'Venezuela', {'weight': 3.7240542097436643e-06}),\n",
       " ('Peru', 'Venezuela', {'weight': 8.117167654388355e-07}),\n",
       " ('Peru', 'Venezuela', {'weight': 5.509458001287298e-06}),\n",
       " ('Peru', 'Venezuela', {'weight': 1.5416440563089048e-05}),\n",
       " ('Peru', 'Venezuela', {'weight': 1.3595093429706057e-07}),\n",
       " ('Peru', 'Venezuela', {'weight': 6.845837851840268e-07}),\n",
       " ('Peru', 'Venezuela', {'weight': 7.433512952549828e-08}),\n",
       " ('Peru', 'Venezuela', {'weight': 4.770546069622796e-07}),\n",
       " ('Peru', 'Venezuela', {'weight': 2.8339443544240514e-07}),\n",
       " ('Peru', 'Venezuela', {'weight': 4.405633388664107e-07}),\n",
       " ('Peru', 'Venezuela', {'weight': 4.341438888438199e-06}),\n",
       " ('Peru', 'Venezuela', {'weight': 1.3471976012254718e-06}),\n",
       " ('Peru', 'Venezuela', {'weight': 6.649583769941578e-06}),\n",
       " ('Peru', 'Venezuela', {'weight': 7.069821780184633e-06}),\n",
       " ('Peru', 'Venezuela', {'weight': 1.17990118943387e-06}),\n",
       " ('Peru', 'Venezuela', {'weight': 1.849107175349959e-07}),\n",
       " ('Peru', 'Venezuela', {'weight': 3.2346957155797936e-07}),\n",
       " ('Peru', 'Venezuela', {'weight': 3.225774525057537e-07}),\n",
       " ('Peru', 'Venezuela', {'weight': 9.417270078461595e-08}),\n",
       " ('Peru', 'Venezuela', {'weight': 4.687683833560292e-07}),\n",
       " ('Peru', 'Venezuela', {'weight': 1}),\n",
       " ('Peru', 'New Zealand', {'weight': 3.910007225718124e-06}),\n",
       " ('Peru', 'New Zealand', {'weight': 9.520070635718558e-06}),\n",
       " ('Peru', 'New Zealand', {'weight': 9.073780463840168e-07}),\n",
       " ('Peru', 'New Zealand', {'weight': 7.0972220648388625e-06}),\n",
       " ('Peru', 'New Zealand', {'weight': 1.628762744323517e-05}),\n",
       " ('Peru', 'New Zealand', {'weight': 2.2957039274014187e-05}),\n",
       " ('Peru', 'New Zealand', {'weight': 0.0005398875054421959}),\n",
       " ('Peru', 'New Zealand', {'weight': 8.439035676538714e-06}),\n",
       " ('Peru', 'New Zealand', {'weight': 9.480063255213693e-06}),\n",
       " ('Peru', 'New Zealand', {'weight': 0.00010897791948539227}),\n",
       " ('Peru', 'New Zealand', {'weight': 8.302664583599117e-05}),\n",
       " ('Peru', 'New Zealand', {'weight': 2.9895335276883606e-05}),\n",
       " ('Peru', 'New Zealand', {'weight': 8.995475272633358e-06}),\n",
       " ('Peru', 'New Zealand', {'weight': 0.0001300652439804701}),\n",
       " ('Peru', 'New Zealand', {'weight': 2.7014844478172143e-05}),\n",
       " ('Peru', 'New Zealand', {'weight': 0.00029130033713981995}),\n",
       " ('Peru', 'New Zealand', {'weight': 0.0003609992083053863}),\n",
       " ('Peru', 'New Zealand', {'weight': 1.4061210833640585e-05}),\n",
       " ('Peru', 'New Zealand', {'weight': 1.528752079880955e-05}),\n",
       " ('Peru', 'New Zealand', {'weight': 4.178095501838194e-06}),\n",
       " ('Peru', 'New Zealand', {'weight': 2.6422194642225266e-05}),\n",
       " ('Peru', 'New Zealand', {'weight': 8.45080343885891e-07}),\n",
       " ('Peru', 'New Zealand', {'weight': 1.6044294797851238e-05}),\n",
       " ('Peru', 'New Zealand', {'weight': 0.0001331880286906381}),\n",
       " ('Peru', 'New Zealand', {'weight': 0.00013811674996534637}),\n",
       " ('Peru', 'New Zealand', {'weight': 0.00035551758140468966}),\n",
       " ('Peru', 'New Zealand', {'weight': 0.00012719107998505937}),\n",
       " ('Peru', 'New Zealand', {'weight': 2.170023158861706e-05}),\n",
       " ('Peru', 'New Zealand', {'weight': 4.438891551101642e-06}),\n",
       " ('Peru', 'New Zealand', {'weight': 1.1683641556898144e-05}),\n",
       " ('Peru', 'New Zealand', {'weight': 1.806236279083162e-05}),\n",
       " ('Peru', 'New Zealand', {'weight': 1.3252339118759232e-05}),\n",
       " ('Peru', 'New Zealand', {'weight': 1.748738468685111e-05}),\n",
       " ('Peru', 'New Zealand', {'weight': 1}),\n",
       " ('Peru', 'New Zealand', {'weight': 3.4654032341819088e-06}),\n",
       " ('Peru', 'New Zealand', {'weight': 6.921483580650083e-07}),\n",
       " ('Peru', 'New Zealand', {'weight': 2.520482164123394e-06}),\n",
       " ('Peru', 'New Zealand', {'weight': 1.4024064582037646e-05}),\n",
       " ('Peru', 'New Zealand', {'weight': 2.1371845623656143e-05}),\n",
       " ('Peru', 'New Zealand', {'weight': 1.3666331479359246e-05}),\n",
       " ('Peru', 'New Zealand', {'weight': 1.0141034718972582e-07}),\n",
       " ('Peru', 'New Zealand', {'weight': 1.341203171055601e-06}),\n",
       " ('Peru', 'New Zealand', {'weight': 2.5645464508077204e-05}),\n",
       " ('Peru', 'New Zealand', {'weight': 1.3961783237268812e-06}),\n",
       " ('Peru', 'New Zealand', {'weight': 1.5364136899398733e-06}),\n",
       " ('Peru', 'New Zealand', {'weight': 1.3969263463024234e-05}),\n",
       " ('Peru', 'New Zealand', {'weight': 3.5509050261650305e-05}),\n",
       " ('Peru', 'New Zealand', {'weight': 0.00044817268100081064}),\n",
       " ('Peru', 'New Zealand', {'weight': 0.00011115216556822129}),\n",
       " ('Peru', 'New Zealand', {'weight': 8.433480864718134e-05}),\n",
       " ('Peru', 'New Zealand', {'weight': 0.0002515128421531579}),\n",
       " ('Peru', 'New Zealand', {'weight': 3.681350772559565e-05}),\n",
       " ('Peru', 'New Zealand', {'weight': 8.787046622599291e-07}),\n",
       " ('Peru', 'New Zealand', {'weight': 1.7980108635440333e-06}),\n",
       " ('Peru', 'New Zealand', {'weight': 3.586302171402217e-06}),\n",
       " ('Peru', 'New Zealand', {'weight': 3.689707734461352e-05}),\n",
       " ('Peru', 'New Zealand', {'weight': 1.8472295720618957e-05}),\n",
       " ('Peru', 'New Zealand', {'weight': 0.00013951629199101523}),\n",
       " ('Peru', 'New Zealand', {'weight': 0.00025872880238221797}),\n",
       " ('Peru', 'New Zealand', {'weight': 5.8904845422582625e-05}),\n",
       " ('Peru', 'New Zealand', {'weight': 0.00010925812913921952}),\n",
       " ('Peru', 'New Zealand', {'weight': 0.0002757388091957408}),\n",
       " ('Peru', 'New Zealand', {'weight': 1.4645268041307643e-05}),\n",
       " ('Peru', 'New Zealand', {'weight': 2.124525689679283e-05}),\n",
       " ('Peru', 'New Zealand', {'weight': 2.1052221486604662e-05}),\n",
       " ('Peru', 'New Zealand', {'weight': 1.113760009487569e-05}),\n",
       " ('Peru', 'New Zealand', {'weight': 3.908890953556257e-05}),\n",
       " ('Peru', 'New Zealand', {'weight': 1}),\n",
       " ('Peru', 'Malawi', {'weight': 0.0005696881372254922}),\n",
       " ('Peru', 'Malawi', {'weight': 0.04819561640927666}),\n",
       " ('Peru', 'Malawi', {'weight': 0.00011971092004291265}),\n",
       " ('Peru', 'Malawi', {'weight': 0.0029750380499553508}),\n",
       " ('Peru', 'Malawi', {'weight': 0.0038867432588126334}),\n",
       " ('Peru', 'Malawi', {'weight': 1}),\n",
       " ('Peru', 'Malawi', {'weight': 1}),\n",
       " ('Peru', 'Malawi', {'weight': 0.24097808204638327}),\n",
       " ('Peru', 'Malawi', {'weight': 0.012048904102319163}),\n",
       " ('Peru', 'Malawi', {'weight': 1}),\n",
       " ('Peru', 'Malawi', {'weight': 1}),\n",
       " ('Peru', 'Malawi', {'weight': 1}),\n",
       " ('Peru', 'Malawi', {'weight': 1}),\n",
       " ('Peru', 'Malawi', {'weight': 1}),\n",
       " ('Peru', 'Malawi', {'weight': 1}),\n",
       " ('Peru', 'Malawi', {'weight': 1}),\n",
       " ('Peru', 'Malawi', {'weight': 1}),\n",
       " ('Peru', 'Malawi', {'weight': 1}),\n",
       " ('Peru', 'Malawi', {'weight': 1}),\n",
       " ('Peru', 'Malawi', {'weight': 0.12048904102319165}),\n",
       " ('Peru', 'Malawi', {'weight': 1}),\n",
       " ('Peru', 'Malawi', {'weight': 0.0015958813380555186}),\n",
       " ('Peru', 'Malawi', {'weight': 1}),\n",
       " ('Peru', 'Malawi', {'weight': 1}),\n",
       " ('Peru', 'Malawi', {'weight': 1}),\n",
       " ('Peru', 'Malawi', {'weight': 1}),\n",
       " ('Peru', 'Malawi', {'weight': 1}),\n",
       " ('Peru', 'Malawi', {'weight': 1}),\n",
       " ('Peru', 'Malawi', {'weight': 1}),\n",
       " ('Peru', 'Malawi', {'weight': 0.06024452051159579}),\n",
       " ('Peru', 'Malawi', {'weight': 1}),\n",
       " ('Peru', 'Malawi', {'weight': 0.24097808204638327}),\n",
       " ('Peru', 'Malawi', {'weight': 0.020081506837198608}),\n",
       " ('Peru', 'Malawi', {'weight': 1}),\n",
       " ('Peru', 'Morocco', {'weight': 0.02377224515778733}),\n",
       " ('Peru', 'Morocco', {'weight': 0.05034122504002022}),\n",
       " ('Peru', 'Morocco', {'weight': 0.010697510321004298}),\n",
       " ('Peru', 'Morocco', {'weight': 0.0007327061863701575}),\n",
       " ('Peru', 'Morocco', {'weight': 0.01556001501236989}),\n",
       " ('Peru', 'Morocco', {'weight': 0.17116016513606877}),\n",
       " ('Peru', 'Morocco', {'weight': 1}),\n",
       " ('Peru', 'Morocco', {'weight': 0.21395020642008591}),\n",
       " ('Peru', 'Morocco', {'weight': 0.035658367736681004}),\n",
       " ('Peru', 'Morocco', {'weight': 0.42790041284017194}),\n",
       " ('Peru', 'Morocco', {'weight': 0.8558008256803435}),\n",
       " ('Peru', 'Morocco', {'weight': 0.42790041284017194}),\n",
       " ('Peru', 'Morocco', {'weight': 1}),\n",
       " ('Peru', 'Morocco', {'weight': 1}),\n",
       " ('Peru', 'Morocco', {'weight': 0.8558008256803435}),\n",
       " ('Peru', 'Morocco', {'weight': 1}),\n",
       " ('Peru', 'Morocco', {'weight': 1}),\n",
       " ('Peru', 'Morocco', {'weight': 0.01678040834667341}),\n",
       " ('Peru', 'Morocco', {'weight': 0.8558008256803435}),\n",
       " ('Peru', 'Morocco', {'weight': 0.07131673547336198}),\n",
       " ('Peru', 'Morocco', {'weight': 0.17116016513606877}),\n",
       " ('Peru', 'Morocco', {'weight': 0.047544490315574645}),\n",
       " ('Peru', 'Morocco', {'weight': 0.21395020642008591}),\n",
       " ('Peru', 'Morocco', {'weight': 0.8558008256803435}),\n",
       " ('Peru', 'Morocco', {'weight': 0.12225726081147766}),\n",
       " ('Peru', 'Morocco', {'weight': 1}),\n",
       " ('Peru', 'Morocco', {'weight': 1}),\n",
       " ('Peru', 'Morocco', {'weight': 1}),\n",
       " ('Peru', 'Morocco', {'weight': 0.04279004128401719}),\n",
       " ('Peru', 'Morocco', {'weight': 0.02593335835394981}),\n",
       " ('Peru', 'Morocco', {'weight': 0.8558008256803435}),\n",
       " ('Peru', 'Morocco', {'weight': 0.011564876022707348}),\n",
       " ('Peru', 'Morocco', {'weight': 0.013166166548928363}),\n",
       " ('Peru', 'Morocco', {'weight': 1}),\n",
       " ('Peru', 'Morocco', {'weight': 2.7209156726938105e-05}),\n",
       " ('Peru', 'Morocco', {'weight': 0.0002844823683449822}),\n",
       " ('Peru', 'Morocco', {'weight': 1.2951356614903416e-05}),\n",
       " ('Peru', 'Morocco', {'weight': 8.348447045341353e-05}),\n",
       " ('Peru', 'Morocco', {'weight': 0.00032974493603104844}),\n",
       " ('Peru', 'Morocco', {'weight': 0.00048023947507104113}),\n",
       " ('Peru', 'Morocco', {'weight': 0.0056524776840528815}),\n",
       " ('Peru', 'Morocco', {'weight': 1.8178279841047204e-05}),\n",
       " ('Peru', 'Morocco', {'weight': 7.374988748164636e-05}),\n",
       " ('Peru', 'Morocco', {'weight': 0.00017834374063442195}),\n",
       " ('Peru', 'Morocco', {'weight': 0.00015395273039961924}),\n",
       " ('Peru', 'Morocco', {'weight': 0.00016416832696053058}),\n",
       " ('Peru', 'Morocco', {'weight': 0.0012657443722788452}),\n",
       " ('Peru', 'Morocco', {'weight': 0.0023924226746236074}),\n",
       " ('Peru', 'Morocco', {'weight': 0.0003613901928589412}),\n",
       " ('Peru', 'Morocco', {'weight': 0.0001882454366604455}),\n",
       " ('Peru', 'Morocco', {'weight': 0.010208383117802618}),\n",
       " ('Peru', 'Morocco', {'weight': 0.0004991695181883211}),\n",
       " ('Peru', 'Morocco', {'weight': 0.0004597139218617659}),\n",
       " ('Peru', 'Morocco', {'weight': 6.795131157404033e-05}),\n",
       " ('Peru', 'Morocco', {'weight': 0.0004602843323776849}),\n",
       " ('Peru', 'Morocco', {'weight': 0.000912929789420088}),\n",
       " ('Peru', 'Morocco', {'weight': 0.00219859912008681}),\n",
       " ('Peru', 'Morocco', {'weight': 0.017737672420913526}),\n",
       " ('Peru', 'Morocco', {'weight': 1}),\n",
       " ('Peru', 'Morocco', {'weight': 0.07466625051427923}),\n",
       " ('Peru', 'Morocco', {'weight': 0.010509362492436213}),\n",
       " ('Peru', 'Morocco', {'weight': 0.008200814062104976}),\n",
       " ('Peru', 'Morocco', {'weight': 0.002948518568297894}),\n",
       " ('Peru', 'Morocco', {'weight': 0.000448259680195245}),\n",
       " ('Peru', 'Morocco', {'weight': 0.00040927109126726426}),\n",
       " ('Peru', 'Morocco', {'weight': 0.00039556888010034525}),\n",
       " ('Peru', 'Morocco', {'weight': 0.0007385906753365457}),\n",
       " ('Peru', 'Morocco', {'weight': 1}),\n",
       " ('Peru', 'Austria', {'weight': 3.625174613236231e-07}),\n",
       " ('Peru', 'Austria', {'weight': 4.769552211054711e-07}),\n",
       " ('Peru', 'Austria', {'weight': 2.0781381220085887e-07}),\n",
       " ('Peru', 'Austria', {'weight': 4.207319593179642e-07}),\n",
       " ('Peru', 'Austria', {'weight': 8.028510957124881e-07}),\n",
       " ('Peru', 'Austria', {'weight': 3.9061021496780556e-07}),\n",
       " ('Peru', 'Austria', {'weight': 2.696626222895361e-05}),\n",
       " ('Peru', 'Austria', {'weight': 3.9150662646677744e-07}),\n",
       " ('Peru', 'Austria', {'weight': 4.2079092175444404e-07}),\n",
       " ('Peru', 'Austria', {'weight': 3.5312813880871794e-06}),\n",
       " ('Peru', 'Austria', {'weight': 4.438166374917086e-06}),\n",
       " ('Peru', 'Austria', {'weight': 2.1064613889204984e-06}),\n",
       " ('Peru', 'Austria', {'weight': 4.5948072503277786e-07}),\n",
       " ('Peru', 'Austria', {'weight': 1.1787214181368192e-05}),\n",
       " ('Peru', 'Austria', {'weight': 3.251384244964646e-06}),\n",
       " ('Peru', 'Austria', {'weight': 1.6827967312032235e-05}),\n",
       " ('Peru', 'Austria', {'weight': 5.0561087630731575e-05}),\n",
       " ('Peru', 'Austria', {'weight': 1.2982325868251987e-06}),\n",
       " ('Peru', 'Austria', {'weight': 7.315879998199934e-07}),\n",
       " ('Peru', 'Austria', {'weight': 3.014168560598374e-07}),\n",
       " ('Peru', 'Austria', {'weight': 7.287642061331506e-07}),\n",
       " ('Peru', 'Austria', {'weight': 8.281079505226553e-07}),\n",
       " ('Peru', 'Austria', {'weight': 1.4911385555263266e-06}),\n",
       " ('Peru', 'Austria', {'weight': 5.477661643266738e-06}),\n",
       " ('Peru', 'Austria', {'weight': 2.2663195228098813e-06}),\n",
       " ('Peru', 'Austria', {'weight': 1.086986244750681e-05}),\n",
       " ('Peru', 'Austria', {'weight': 6.098837637122951e-06}),\n",
       " ('Peru', 'Austria', {'weight': 1.084277633814294e-06}),\n",
       " ('Peru', 'Austria', {'weight': 1.9477207646160202e-07}),\n",
       " ('Peru', 'Austria', {'weight': 5.513383865462431e-07}),\n",
       " ('Peru', 'Austria', {'weight': 6.881179407337583e-07}),\n",
       " ('Peru', 'Austria', {'weight': 4.3424317326321557e-07}),\n",
       " ('Peru', 'Austria', {'weight': 1.444290197905617e-06}),\n",
       " ('Peru', 'Austria', {'weight': 1}),\n",
       " ('Peru', 'Austria', {'weight': 3.952981619256845e-06}),\n",
       " ('Peru', 'Austria', {'weight': 3.639140950885781e-05}),\n",
       " ('Peru', 'Austria', {'weight': 6.598635761499413e-07}),\n",
       " ('Peru', 'Austria', {'weight': 4.893735727882947e-06}),\n",
       " ('Peru', 'Austria', {'weight': 3.042875221459787e-06}),\n",
       " ('Peru', 'Austria', {'weight': 7.323921465135148e-06}),\n",
       " ('Peru', 'Austria', {'weight': 1.3067415785342541e-06}),\n",
       " ('Peru', 'Austria', {'weight': 1.6761484916940858e-05}),\n",
       " ('Peru', 'Austria', {'weight': 2.6696623498432442e-05}),\n",
       " ('Peru', 'Austria', {'weight': 3.6208140411619105e-06}),\n",
       " ('Peru', 'Austria', {'weight': 7.018517850511845e-06}),\n",
       " ('Peru', 'Austria', {'weight': 2.7107433237327018e-05}),\n",
       " ('Peru', 'Austria', {'weight': 1.1870225646606021e-05}),\n",
       " ('Peru', 'Austria', {'weight': 3.1546525872869e-05}),\n",
       " ('Peru', 'Austria', {'weight': 5.286198222218236e-05}),\n",
       " ('Peru', 'Austria', {'weight': 2.561809791352245e-05}),\n",
       " ('Peru', 'Austria', {'weight': 0.0001490335612700653}),\n",
       " ('Peru', 'Austria', {'weight': 1.7934908243185458e-05}),\n",
       " ('Peru', 'Austria', {'weight': 2.635064486607209e-06}),\n",
       " ('Peru', 'Austria', {'weight': 1.7713000161533413e-06}),\n",
       " ('Peru', 'Austria', {'weight': 8.571614551073153e-06}),\n",
       " ('Peru', 'Austria', {'weight': 3.84008643195619e-06}),\n",
       " ('Peru', 'Austria', {'weight': 4.26035642396026e-05}),\n",
       " ('Peru', 'Austria', {'weight': 0.00042153612193644496}),\n",
       " ('Peru', 'Austria', {'weight': 9.477113987048304e-05}),\n",
       " ('Peru', 'Austria', {'weight': 2.8428923616778138e-05}),\n",
       " ('Peru', 'Austria', {'weight': 0.0005649855081975882}),\n",
       " ('Peru', 'Austria', {'weight': 0.0005944192378458869}),\n",
       " ('Peru', 'Austria', {'weight': 6.987517437872037e-05}),\n",
       " ('Peru', 'Austria', {'weight': 1.7398664955412336e-05}),\n",
       " ('Peru', 'Austria', {'weight': 6.226837141964932e-05}),\n",
       " ('Peru', 'Austria', {'weight': 1.2016818990828053e-05}),\n",
       " ('Peru', 'Austria', {'weight': 3.88169465152713e-05}),\n",
       " ('Peru', 'Austria', {'weight': 1}),\n",
       " ('Peru', 'Singapore', {'weight': 9.69512785780499e-07}),\n",
       " ('Peru', 'Singapore', {'weight': 1.9503298569349944e-06}),\n",
       " ('Peru', 'Singapore', {'weight': 1.4209307806763743e-06}),\n",
       " ('Peru', 'Singapore', {'weight': 3.3651053215189084e-06}),\n",
       " ('Peru', 'Singapore', {'weight': 4.89862760289715e-06}),\n",
       " ('Peru', 'Singapore', {'weight': 1.707823310738502e-05}),\n",
       " ('Peru', 'Singapore', {'weight': 7.007492446519795e-05}),\n",
       " ('Peru', 'Singapore', {'weight': 3.2687382674494972e-06}),\n",
       " ('Peru', 'Singapore', {'weight': 4.294295431878543e-06}),\n",
       " ('Peru', 'Singapore', {'weight': 4.765641059676455e-05}),\n",
       " ('Peru', 'Singapore', {'weight': 1.9584646475865845e-05}),\n",
       " ('Peru', 'Singapore', {'weight': 1.4686091422244003e-05}),\n",
       " ('Peru', 'Singapore', {'weight': 2.0015038249791715e-06}),\n",
       " ('Peru', 'Singapore', {'weight': 2.1313766189128074e-05}),\n",
       " ('Peru', 'Singapore', {'weight': 2.502242155160518e-06}),\n",
       " ('Peru', 'Singapore', {'weight': 3.041088709250861e-05}),\n",
       " ('Peru', 'Singapore', {'weight': 6.755693896230393e-06}),\n",
       " ('Peru', 'Singapore', {'weight': 4.103293746715608e-06}),\n",
       " ('Peru', 'Singapore', {'weight': 3.984035172979046e-06}),\n",
       " ('Peru', 'Singapore', {'weight': 9.667999103442449e-07}),\n",
       " ('Peru', 'Singapore', {'weight': 2.7047131707880806e-06}),\n",
       " ('Peru', 'Singapore', {'weight': 4.639041871366567e-06}),\n",
       " ('Peru', 'Singapore', {'weight': 3.19807322059765e-07}),\n",
       " ('Peru', 'Singapore', {'weight': 2.4995641833484147e-06}),\n",
       " ('Peru', 'Singapore', {'weight': 1.0227521889362313e-05}),\n",
       " ('Peru', 'Singapore', {'weight': 9.551712480344163e-05}),\n",
       " ('Peru', 'Singapore', {'weight': 2.660275119078697e-05}),\n",
       " ('Peru', 'Singapore', {'weight': 2.0678378871142074e-06}),\n",
       " ('Peru', 'Singapore', {'weight': 6.675482697711855e-07}),\n",
       " ('Peru', 'Singapore', {'weight': 7.890284088693062e-07}),\n",
       " ('Peru', 'Singapore', {'weight': 1.0360345756203693e-06}),\n",
       " ('Peru', 'Singapore', {'weight': 9.489267083207623e-07}),\n",
       " ('Peru', 'Singapore', {'weight': 5.00364778230084e-06}),\n",
       " ('Peru', 'Singapore', {'weight': 1}),\n",
       " ('Peru', 'Singapore', {'weight': 4.335242138600984e-05}),\n",
       " ('Peru', 'Singapore', {'weight': 7.982340496276896e-07}),\n",
       " ('Peru', 'Singapore', {'weight': 1.0375897510035756e-07}),\n",
       " ('Peru', 'Singapore', {'weight': 2.6537658646497587e-06}),\n",
       " ('Peru', 'Singapore', {'weight': 1.4774072016662943e-06}),\n",
       " ('Peru', 'Singapore', {'weight': 2.5336923623251888e-08}),\n",
       " ('Peru', 'Singapore', {'weight': 2.638457446489228e-07}),\n",
       " ('Peru', 'Singapore', {'weight': 2.2633126442164e-08}),\n",
       " ('Peru', 'Singapore', {'weight': 9.367510035105796e-08}),\n",
       " ('Peru', 'Singapore', {'weight': 2.213969527806138e-08}),\n",
       " ('Peru', 'Singapore', {'weight': 4.04387048033881e-09}),\n",
       " ('Peru', 'Singapore', {'weight': 5.932357905870018e-10}),\n",
       " ('Peru', 'Singapore', {'weight': 2.4846072940217074e-09}),\n",
       " ('Peru', 'Singapore', {'weight': 8.723533806428483e-09}),\n",
       " ('Peru', 'Singapore', {'weight': 9.467040579681964e-09}),\n",
       " ('Peru', 'Singapore', {'weight': 1.996072711178871e-07}),\n",
       " ('Peru', 'Singapore', {'weight': 8.42254168453522e-09}),\n",
       " ('Peru', 'Singapore', {'weight': 3.019451000996304e-08}),\n",
       " ('Peru', 'Singapore', {'weight': 7.981278802228344e-08}),\n",
       " ('Peru', 'Singapore', {'weight': 4.701260107600518e-10}),\n",
       " ('Peru', 'Singapore', {'weight': 1.982111436891763e-07}),\n",
       " ('Peru', 'Singapore', {'weight': 2.832091007625767e-07}),\n",
       " ('Peru', 'Singapore', {'weight': 1.6670652706724961e-07}),\n",
       " ('Peru', 'Singapore', {'weight': 0.00012242208405083624}),\n",
       " ('Peru', 'Singapore', {'weight': 1.577423652048644e-06}),\n",
       " ('Peru', 'Singapore', {'weight': 3.9884974415726784e-07}),\n",
       " ('Peru', 'Singapore', {'weight': 1.59422943876445e-06}),\n",
       " ('Peru', 'Singapore', {'weight': 9.97769033537772e-07}),\n",
       " ('Peru', 'Singapore', {'weight': 2.7490846784861495e-08}),\n",
       " ('Peru', 'Singapore', {'weight': 3.2836963460931325e-08}),\n",
       " ('Peru', 'Singapore', {'weight': 0.003836263756449855}),\n",
       " ('Peru', 'Singapore', {'weight': 3.1048865760438654e-06}),\n",
       " ('Peru', 'Singapore', {'weight': 2.8646545238483443e-06}),\n",
       " ('Peru', 'Singapore', {'weight': 1}),\n",
       " ('Peru', 'Syria', {'weight': 9.541896506435521e-05}),\n",
       " ('Peru', 'Syria', {'weight': 0.008072444444444446}),\n",
       " ('Peru', 'Syria', {'weight': 2.005078103438759e-05}),\n",
       " ('Peru', 'Syria', {'weight': 0.0004982990397805212}),\n",
       " ('Peru', 'Syria', {'weight': 0.0006510035842293908}),\n",
       " ('Peru', 'Syria', {'weight': 1}),\n",
       " ('Peru', 'Syria', {'weight': 1}),\n",
       " ('Peru', 'Syria', {'weight': 0.040362222222222216}),\n",
       " ('Peru', 'Syria', {'weight': 0.002018111111111111}),\n",
       " ('Peru', 'Syria', {'weight': 1}),\n",
       " ('Peru', 'Syria', {'weight': 1}),\n",
       " ('Peru', 'Syria', {'weight': 1}),\n",
       " ('Peru', 'Syria', {'weight': 1}),\n",
       " ('Peru', 'Syria', {'weight': 1}),\n",
       " ('Peru', 'Syria', {'weight': 1}),\n",
       " ('Peru', 'Syria', {'weight': 1}),\n",
       " ('Peru', 'Syria', {'weight': 1}),\n",
       " ('Peru', 'Syria', {'weight': 1}),\n",
       " ('Peru', 'Syria', {'weight': 1}),\n",
       " ('Peru', 'Syria', {'weight': 0.020181111111111108}),\n",
       " ('Peru', 'Syria', {'weight': 1}),\n",
       " ('Peru', 'Syria', {'weight': 0.0002672994849153788}),\n",
       " ('Peru', 'Syria', {'weight': 1}),\n",
       " ('Peru', 'Syria', {'weight': 1}),\n",
       " ('Peru', 'Syria', {'weight': 1}),\n",
       " ('Peru', 'Syria', {'weight': 1}),\n",
       " ('Peru', 'Syria', {'weight': 1}),\n",
       " ('Peru', 'Syria', {'weight': 1}),\n",
       " ('Peru', 'Syria', {'weight': 1}),\n",
       " ('Peru', 'Syria', {'weight': 0.010090555555555557}),\n",
       " ('Peru', 'Syria', {'weight': 1}),\n",
       " ('Peru', 'Syria', {'weight': 0.040362222222222216}),\n",
       " ('Peru', 'Syria', {'weight': 0.003363518518518518}),\n",
       " ('Peru', 'Syria', {'weight': 1}),\n",
       " ('Peru', 'Fmr Sudan', {'weight': 0.0017668340306412136}),\n",
       " ('Peru', 'Fmr Sudan', {'weight': 0.013824967002272325}),\n",
       " ('Peru', 'Fmr Sudan', {'weight': 0.004830121913873057}),\n",
       " ('Peru', 'Fmr Sudan', {'weight': 0.005633955884142583}),\n",
       " ('Peru', 'Fmr Sudan', {'weight': 0.01406588729682596}),\n",
       " ('Peru', 'Fmr Sudan', {'weight': 0.015648651177639434}),\n",
       " ('Peru', 'Fmr Sudan', {'weight': 2.159513862514242}),\n",
       " ('Peru', 'Fmr Sudan', {'weight': 0.0025707250293468386}),\n",
       " ('Peru', 'Fmr Sudan', {'weight': 0.0016093968621577234}),\n",
       " ('Peru', 'Fmr Sudan', {'weight': 0.029182619763705966}),\n",
       " ('Peru', 'Fmr Sudan', {'weight': 0.11365862434285484}),\n",
       " ('Peru', 'Fmr Sudan', {'weight': 0.04798919694476093}),\n",
       " ('Peru', 'Fmr Sudan', {'weight': 0.1079756931257121}),\n",
       " ('Peru', 'Fmr Sudan', {'weight': 0.3085019803591775}),\n",
       " ('Peru', 'Fmr Sudan', {'weight': 0.05682931217142744}),\n",
       " ('Peru', 'Fmr Sudan', {'weight': 2.159513862514242}),\n",
       " ('Peru', 'Fmr Sudan', {'weight': 2.159513862514242}),\n",
       " ('Peru', 'Fmr Sudan', {'weight': 0.007824325588819715}),\n",
       " ('Peru', 'Fmr Sudan', {'weight': 0.13496961640714011}),\n",
       " ('Peru', 'Fmr Sudan', {'weight': 0.012476856729484538}),\n",
       " ('Peru', 'Fmr Sudan', {'weight': 0.166116450962634}),\n",
       " ('Peru', 'Fmr Sudan', {'weight': 0.026608762407331253}),\n",
       " ('Peru', 'Fmr Sudan', {'weight': 0.2159513862514242}),\n",
       " ('Peru', 'Fmr Sudan', {'weight': 2.159513862514242}),\n",
       " ('Peru', 'Fmr Sudan', {'weight': 0.19631944204674925}),\n",
       " ('Peru', 'Fmr Sudan', {'weight': 1.079756931257121}),\n",
       " ('Peru', 'Fmr Sudan', {'weight': 2.159513862514242}),\n",
       " ('Peru', 'Fmr Sudan', {'weight': 0.35991897708570697}),\n",
       " ('Peru', 'Fmr Sudan', {'weight': 0.03599189770857069}),\n",
       " ('Peru', 'Fmr Sudan', {'weight': 0.03777809268010916}),\n",
       " ('Peru', 'Fmr Sudan', {'weight': 0.02804563457810704}),\n",
       " ('Peru', 'Fmr Sudan', {'weight': 0.004250670303282757}),\n",
       " ('Peru', 'Fmr Sudan', {'weight': 0.02751345389753008}),\n",
       " ('Peru', 'Fmr Sudan', {'weight': 1}),\n",
       " ('Peru', 'Dominican Rep.', {'weight': 0.00015398536644833672}),\n",
       " ('Peru', 'Dominican Rep.', {'weight': 0.0004864278680924231}),\n",
       " ('Peru', 'Dominican Rep.', {'weight': 0.00017577728349433208}),\n",
       " ('Peru', 'Dominican Rep.', {'weight': 0.00010349413632313732}),\n",
       " ('Peru', 'Dominican Rep.', {'weight': 0.0006020291092168812}),\n",
       " ('Peru', 'Dominican Rep.', {'weight': 0.0012290746984069476}),\n",
       " ('Peru', 'Dominican Rep.', {'weight': 0.03523762282643346}),\n",
       " ('Peru', 'Dominican Rep.', {'weight': 0.00022894217751773593}),\n",
       " ('Peru', 'Dominican Rep.', {'weight': 0.00016691846369272045}),\n",
       " ('Peru', 'Dominican Rep.', {'weight': 0.0026943718656517813}),\n",
       " ('Peru', 'Dominican Rep.', {'weight': 0.004539979721822657}),\n",
       " ('Peru', 'Dominican Rep.', {'weight': 0.0013748710054307385}),\n",
       " ('Peru', 'Dominican Rep.', {'weight': 0.0006415483163848619}),\n",
       " ('Peru', 'Dominican Rep.', {'weight': 0.012327642356569692}),\n",
       " ('Peru', 'Dominican Rep.', {'weight': 0.003335958434773242}),\n",
       " ('Peru', 'Dominican Rep.', {'weight': 0.019456693718849997}),\n",
       " ('Peru', 'Dominican Rep.', {'weight': 0.04155244026541891}),\n",
       " ('Peru', 'Dominican Rep.', {'weight': 0.0003941682488313638}),\n",
       " ('Peru', 'Dominican Rep.', {'weight': 0.0010466677759459143}),\n",
       " ('Peru', 'Dominican Rep.', {'weight': 0.00028273400950029056}),\n",
       " ('Peru', 'Dominican Rep.', {'weight': 0.0022359461395209837}),\n",
       " ('Peru', 'Dominican Rep.', {'weight': 0.0003545415212148527}),\n",
       " ('Peru', 'Dominican Rep.', {'weight': 0.0026520580996077315}),\n",
       " ('Peru', 'Dominican Rep.', {'weight': 0.015279041654767974}),\n",
       " ('Peru', 'Dominican Rep.', {'weight': 0.006927477656713849}),\n",
       " ('Peru', 'Dominican Rep.', {'weight': 0.025344317177039086}),\n",
       " ('Peru', 'Dominican Rep.', {'weight': 0.008997872761668422}),\n",
       " ('Peru', 'Dominican Rep.', {'weight': 0.0015974432285098474}),\n",
       " ('Peru', 'Dominican Rep.', {'weight': 0.00029494122233805905}),\n",
       " ('Peru', 'Dominican Rep.', {'weight': 0.0007055909295710544}),\n",
       " ('Peru', 'Dominican Rep.', {'weight': 0.00129524808593773}),\n",
       " ('Peru', 'Dominican Rep.', {'weight': 0.00032153113063786246}),\n",
       " ('Peru', 'Dominican Rep.', {'weight': 0.0009364349117710713}),\n",
       " ('Peru', 'Dominican Rep.', {'weight': 1}),\n",
       " ('Peru', 'India', {'weight': 4.60073143086481e-08}),\n",
       " ('Peru', 'India', {'weight': 3.8665586147112244e-07}),\n",
       " ('Peru', 'India', {'weight': 6.420855693864583e-07}),\n",
       " ('Peru', 'India', {'weight': 9.944863320078528e-07}),\n",
       " ('Peru', 'India', {'weight': 1.8051564816392127e-06}),\n",
       " ('Peru', 'India', {'weight': 4.879622175760502e-06}),\n",
       " ('Peru', 'India', {'weight': 7.411159524164487e-06}),\n",
       " ('Peru', 'India', {'weight': 8.823243169794556e-07}),\n",
       " ('Peru', 'India', {'weight': 8.056996369887881e-07}),\n",
       " ('Peru', 'India', {'weight': 1.1657260699934475e-05}),\n",
       " ('Peru', 'India', {'weight': 8.946145105056821e-06}),\n",
       " ('Peru', 'India', {'weight': 2.9221194811111504e-06}),\n",
       " ('Peru', 'India', {'weight': 1.026742840507202e-06}),\n",
       " ('Peru', 'India', {'weight': 1.185199293763019e-05}),\n",
       " ('Peru', 'India', {'weight': 2.334363631829375e-06}),\n",
       " ('Peru', 'India', {'weight': 1.5159054607118496e-05}),\n",
       " ('Peru', 'India', {'weight': 2.7866327577242047e-07}),\n",
       " ('Peru', 'India', {'weight': 1.7181664914253954e-06}),\n",
       " ('Peru', 'India', {'weight': 1.766467242937053e-06}),\n",
       " ('Peru', 'India', {'weight': 7.423404299152514e-08}),\n",
       " ('Peru', 'India', {'weight': 1.9961159246451706e-06}),\n",
       " ('Peru', 'India', {'weight': 2.326697729360132e-06}),\n",
       " ('Peru', 'India', {'weight': 1.0217331732112638e-08}),\n",
       " ('Peru', 'India', {'weight': 1.4676394079530872e-05}),\n",
       " ('Peru', 'India', {'weight': 1.9928412419070486e-05}),\n",
       " ('Peru', 'India', {'weight': 3.211753152311625e-05}),\n",
       " ('Peru', 'India', {'weight': 1.4704958202025904e-05}),\n",
       " ('Peru', 'India', {'weight': 2.4881106191502256e-06}),\n",
       " ('Peru', 'India', {'weight': 2.866576434005871e-07}),\n",
       " ('Peru', 'India', {'weight': 1.0452228187231073e-07}),\n",
       " ('Peru', 'India', {'weight': 1.7971077120848673e-06}),\n",
       " ('Peru', 'India', {'weight': 1.5220845723471388e-06}),\n",
       " ('Peru', 'India', {'weight': 3.525855647915959e-06}),\n",
       " ('Peru', 'India', {'weight': 1}),\n",
       " ('Peru', 'India', {'weight': 4.5398806948252564e-05}),\n",
       " ('Peru', 'India', {'weight': 0.00023628797529552705}),\n",
       " ('Peru', 'India', {'weight': 6.338265555248899e-06}),\n",
       " ('Peru', 'India', {'weight': 8.144301396953595e-06}),\n",
       " ('Peru', 'India', {'weight': 7.325165134111743e-05}),\n",
       " ('Peru', 'India', {'weight': 8.819841744570635e-06}),\n",
       " ('Peru', 'India', {'weight': 9.640211647877747e-06}),\n",
       " ('Peru', 'India', {'weight': 3.4606967528219077e-06}),\n",
       " ('Peru', 'India', {'weight': 1.4191544687653036e-05}),\n",
       " ('Peru', 'India', {'weight': 5.874525555217432e-06}),\n",
       " ('Peru', 'India', {'weight': 6.646693507646894e-08}),\n",
       " ('Peru', 'India', {'weight': 2.8152627726107154e-07}),\n",
       " ('Peru', 'India', {'weight': 1.8469018360099682e-07}),\n",
       " ('Peru', 'India', {'weight': 2.674931804722208e-07}),\n",
       " ('Peru', 'India', {'weight': 2.8587933909407233e-07}),\n",
       " ('Peru', 'India', {'weight': 4.0737161667476726e-07}),\n",
       " ('Peru', 'India', {'weight': 3.2285666533426974e-07}),\n",
       " ('Peru', 'India', {'weight': 1.500130190249803e-05}),\n",
       " ('Peru', 'India', {'weight': 7.321320094052856e-05}),\n",
       " ('Peru', 'India', {'weight': 2.3087408065020619e-07}),\n",
       " ('Peru', 'India', {'weight': 7.34977945503828e-05}),\n",
       " ('Peru', 'India', {'weight': 0.0011670977860514713}),\n",
       " ('Peru', 'India', {'weight': 4.540137139947795e-05}),\n",
       " ('Peru', 'India', {'weight': 1.857123911409752}),\n",
       " ('Peru', 'India', {'weight': 0.0007350503288540321}),\n",
       " ('Peru', 'India', {'weight': 0.9285619557048755}),\n",
       " ('Peru', 'India', {'weight': 1}),\n",
       " ('Peru', 'India', {'weight': 0.05123933238293251}),\n",
       " ('Peru', 'India', {'weight': 0.057595759662957186}),\n",
       " ('Peru', 'India', {'weight': 0.00018333206065123964}),\n",
       " ('Peru', 'India', {'weight': 0.012508862647993238}),\n",
       " ('Peru', 'India', {'weight': 0.00010744698195743927}),\n",
       " ('Peru', 'India', {'weight': 9.927913662569877e-06}),\n",
       " ('Peru', 'India', {'weight': 1}),\n",
       " ('Peru', 'Ethiopia', {'weight': 0.06338788310884104}),\n",
       " ('Peru', 'Ethiopia', {'weight': 7.728936170212766}),\n",
       " ('Peru', 'Ethiopia', {'weight': 0.010339007468705856}),\n",
       " ('Peru', 'Ethiopia', {'weight': 0.2263396931692569}),\n",
       " ('Peru', 'Ethiopia', {'weight': 0.5891900391269379}),\n",
       " ('Peru', 'Ethiopia', {'weight': 1.5380043620501636}),\n",
       " ('Peru', 'Ethiopia', {'weight': 1}),\n",
       " ('Peru', 'Ethiopia', {'weight': 3.283737758741}),\n",
       " ('Peru', 'Ethiopia', {'weight': 1.9322340425531914}),\n",
       " ('Peru', 'Ethiopia', {'weight': 1}),\n",
       " ('Peru', 'Ethiopia', {'weight': 1}),\n",
       " ('Peru', 'Ethiopia', {'weight': 1}),\n",
       " ('Peru', 'Ethiopia', {'weight': 1}),\n",
       " ('Peru', 'Ethiopia', {'weight': 1}),\n",
       " ('Peru', 'Ethiopia', {'weight': 1}),\n",
       " ('Peru', 'Ethiopia', {'weight': 1}),\n",
       " ('Peru', 'Ethiopia', {'weight': 1}),\n",
       " ('Peru', 'Ethiopia', {'weight': 10.766030534351144}),\n",
       " ('Peru', 'Ethiopia', {'weight': 1}),\n",
       " ('Peru', 'Ethiopia', {'weight': 19.322340425531916}),\n",
       " ('Peru', 'Ethiopia', {'weight': 7.17735368956743}),\n",
       " ('Peru', 'Ethiopia', {'weight': 0.016820158570683464}),\n",
       " ('Peru', 'Ethiopia', {'weight': 1}),\n",
       " ('Peru', 'Ethiopia', {'weight': 1}),\n",
       " ('Peru', 'Ethiopia', {'weight': 10.766030534351144}),\n",
       " ('Peru', 'Ethiopia', {'weight': 1}),\n",
       " ('Peru', 'Ethiopia', {'weight': 1}),\n",
       " ('Peru', 'Ethiopia', {'weight': 1}),\n",
       " ('Peru', 'Ethiopia', {'weight': 1}),\n",
       " ('Peru', 'Ethiopia', {'weight': 9.661170212765956}),\n",
       " ('Peru', 'Ethiopia', {'weight': 1}),\n",
       " ('Peru', 'Ethiopia', {'weight': 6.053125869882374}),\n",
       " ('Peru', 'Ethiopia', {'weight': 0.6033727847201951}),\n",
       " ('Peru', 'Ethiopia', {'weight': 1}),\n",
       " ('Peru', 'Spain', {'weight': 6.294175090079148e-08}),\n",
       " ('Peru', 'Spain', {'weight': 7.991659333392731e-08}),\n",
       " ('Peru', 'Spain', {'weight': 5.13761194336833e-08}),\n",
       " ('Peru', 'Spain', {'weight': 9.710040404760256e-08}),\n",
       " ('Peru', 'Spain', {'weight': 1.6723350752658293e-07}),\n",
       " ('Peru', 'Spain', {'weight': 2.2239177664523476e-07}),\n",
       " ('Peru', 'Spain', {'weight': 4.375342103141067e-06}),\n",
       " ('Peru', 'Spain', {'weight': 8.896779487287954e-08}),\n",
       " ('Peru', 'Spain', {'weight': 9.263856412465611e-08}),\n",
       " ('Peru', 'Spain', {'weight': 1.086349676443273e-06}),\n",
       " ('Peru', 'Spain', {'weight': 5.484932689895846e-07}),\n",
       " ('Peru', 'Spain', {'weight': 3.328546041030416e-07}),\n",
       " ('Peru', 'Spain', {'weight': 7.184870542265329e-08}),\n",
       " ('Peru', 'Spain', {'weight': 3.8200142457069156e-07}),\n",
       " ('Peru', 'Spain', {'weight': 5.8323996984945176e-08}),\n",
       " ('Peru', 'Spain', {'weight': 5.133372668889233e-07}),\n",
       " ('Peru', 'Spain', {'weight': 1.2445974677269607e-06}),\n",
       " ('Peru', 'Spain', {'weight': 9.613635811791434e-08}),\n",
       " ('Peru', 'Spain', {'weight': 1.4035411907392893e-07}),\n",
       " ('Peru', 'Spain', {'weight': 2.513828794298779e-08}),\n",
       " ('Peru', 'Spain', {'weight': 6.824587301036122e-08}),\n",
       " ('Peru', 'Spain', {'weight': 1.1317463706193797e-07}),\n",
       " ('Peru', 'Spain', {'weight': 8.02041266363036e-08}),\n",
       " ('Peru', 'Spain', {'weight': 1.8434405820176568e-07}),\n",
       " ('Peru', 'Spain', {'weight': 4.917108841138225e-07}),\n",
       " ('Peru', 'Spain', {'weight': 1.7865466709930623e-06}),\n",
       " ('Peru', 'Spain', {'weight': 1.0989501464135407e-06}),\n",
       " ('Peru', 'Spain', {'weight': 1.1717206345819144e-07}),\n",
       " ('Peru', 'Spain', {'weight': 3.206618470682108e-08}),\n",
       " ('Peru', 'Spain', {'weight': 4.637717656606238e-08}),\n",
       " ('Peru', 'Spain', {'weight': 4.581030640389881e-08}),\n",
       " ('Peru', 'Spain', {'weight': 6.160706686820508e-08}),\n",
       " ('Peru', 'Spain', {'weight': 1.620355741469118e-07}),\n",
       " ('Peru', 'Spain', {'weight': 1}),\n",
       " ('Peru', 'Spain', {'weight': 3.292925865471436e-07}),\n",
       " ('Peru', 'Spain', {'weight': 2.8144546713869115e-07}),\n",
       " ('Peru', 'Spain', {'weight': 8.427571224784689e-08}),\n",
       " ('Peru', 'Spain', {'weight': 2.35902147026067e-07}),\n",
       " ('Peru', 'Spain', {'weight': 1.0923197422967124e-06}),\n",
       " ('Peru', 'Spain', {'weight': 2.955166303612459e-07}),\n",
       " ('Peru', 'Spain', {'weight': 1.2358053653489468e-09}),\n",
       " ('Peru', 'Spain', {'weight': 3.1221948010578915e-08}),\n",
       " ('Peru', 'Spain', {'weight': 6.746705497275266e-07}),\n",
       " ('Peru', 'Spain', {'weight': 6.258046679219439e-09}),\n",
       " ('Peru', 'Spain', {'weight': 6.462758822144733e-09}),\n",
       " ('Peru', 'Spain', {'weight': 1.5893876833444137e-08}),\n",
       " ('Peru', 'Spain', {'weight': 3.013130759558665e-08}),\n",
       " ('Peru', 'Spain', {'weight': 1.2308369197901858e-07}),\n",
       " ('Peru', 'Spain', {'weight': 4.170728240415559e-08}),\n",
       " ('Peru', 'Spain', {'weight': 1.7835901075102514e-08}),\n",
       " ('Peru', 'Spain', {'weight': 1.2237183424356569e-07}),\n",
       " ('Peru', 'Spain', {'weight': 5.210242423474803e-08}),\n",
       " ('Peru', 'Spain', {'weight': 2.6379324957508863e-09}),\n",
       " ('Peru', 'Spain', {'weight': 7.4465686836838776e-09}),\n",
       " ('Peru', 'Spain', {'weight': 3.223795043901189e-07}),\n",
       " ('Peru', 'Spain', {'weight': 2.83894939286523e-07}),\n",
       " ('Peru', 'Spain', {'weight': 6.513903390969589e-07}),\n",
       " ('Peru', 'Spain', {'weight': 1.3982951205982264e-06}),\n",
       " ('Peru', 'Spain', {'weight': 1.1345491808389052e-06}),\n",
       " ('Peru', 'Spain', {'weight': 4.623523074798244e-06}),\n",
       " ('Peru', 'Spain', {'weight': 8.119606281012847e-06}),\n",
       " ('Peru', 'Spain', {'weight': 7.831189174489948e-06}),\n",
       " ('Peru', 'Spain', {'weight': 9.910109677577713e-07}),\n",
       " ('Peru', 'Spain', {'weight': 2.6731918952430425e-07}),\n",
       " ('Peru', 'Spain', {'weight': 2.608235024275379e-06}),\n",
       " ('Peru', 'Spain', {'weight': 7.855273031507706e-07}),\n",
       " ('Peru', 'Spain', {'weight': 2.186317356425867e-07}),\n",
       " ('Peru', 'Spain', {'weight': 1}),\n",
       " ('Peru', 'Panama', {'weight': 5.37268056423196e-07}),\n",
       " ('Peru', 'Panama', {'weight': 7.01015325888803e-07}),\n",
       " ('Peru', 'Panama', {'weight': 5.693449584962109e-07}),\n",
       " ('Peru', 'Panama', {'weight': 6.545054461960662e-07}),\n",
       " ('Peru', 'Panama', {'weight': 1.2621108306180158e-06}),\n",
       " ('Peru', 'Panama', {'weight': 3.920588788832053e-06}),\n",
       " ('Peru', 'Panama', {'weight': 3.378514162274981e-05}),\n",
       " ('Peru', 'Panama', {'weight': 7.817506651433711e-07}),\n",
       " ('Peru', 'Panama', {'weight': 8.727656826088857e-07}),\n",
       " ('Peru', 'Panama', {'weight': 1.0032838345390851e-05}),\n",
       " ('Peru', 'Panama', {'weight': 6.797247264608134e-06}),\n",
       " ('Peru', 'Panama', {'weight': 3.8934584246228056e-06}),\n",
       " ('Peru', 'Panama', {'weight': 6.666257795184148e-07}),\n",
       " ('Peru', 'Panama', {'weight': 1.6073923513342967e-05}),\n",
       " ('Peru', 'Panama', {'weight': 2.664761149762381e-06}),\n",
       " ('Peru', 'Panama', {'weight': 3.3890381174345247e-06}),\n",
       " ('Peru', 'Panama', {'weight': 9.92261298061846e-06}),\n",
       " ('Peru', 'Panama', {'weight': 1.8535187461326068e-06}),\n",
       " ('Peru', 'Panama', {'weight': 1.1521467750573123e-06}),\n",
       " ('Peru', 'Panama', {'weight': 4.3705396164632556e-07}),\n",
       " ('Peru', 'Panama', {'weight': 7.107791335303675e-07}),\n",
       " ('Peru', 'Panama', {'weight': 2.2096970414660676e-06}),\n",
       " ('Peru', 'Panama', {'weight': 5.087626499105541e-07}),\n",
       " ('Peru', 'Panama', {'weight': 2.6075612393845385e-06}),\n",
       " ('Peru', 'Panama', {'weight': 8.674425404538088e-06}),\n",
       " ('Peru', 'Panama', {'weight': 3.3125852420345226e-05}),\n",
       " ('Peru', 'Panama', {'weight': 8.96067673748678e-06}),\n",
       " ('Peru', 'Panama', {'weight': 1.1714331525987141e-06}),\n",
       " ('Peru', 'Panama', {'weight': 2.868381957568529e-07}),\n",
       " ('Peru', 'Panama', {'weight': 5.762250522198799e-07}),\n",
       " ('Peru', 'Panama', {'weight': 9.033651307902647e-07}),\n",
       " ('Peru', 'Panama', {'weight': 6.317101673506315e-07}),\n",
       " ('Peru', 'Panama', {'weight': 2.4953546885506136e-06}),\n",
       " ('Peru', 'Panama', {'weight': 1}),\n",
       " ('Peru', 'Greece', {'weight': 2.5361236992120928e-05}),\n",
       " ('Peru', 'Greece', {'weight': 0.00018049980757771069}),\n",
       " ('Peru', 'Greece', {'weight': 3.76616606497165e-05}),\n",
       " ('Peru', 'Greece', {'weight': 6.795544157763688e-05}),\n",
       " ('Peru', 'Greece', {'weight': 0.00021198629327173803}),\n",
       " ('Peru', 'Greece', {'weight': 0.00023095692539417466}),\n",
       " ('Peru', 'Greece', {'weight': 0.025181831977992133}),\n",
       " ('Peru', 'Greece', {'weight': 3.978752407377289e-05}),\n",
       " ('Peru', 'Greece', {'weight': 2.6273889597707348e-05}),\n",
       " ('Peru', 'Greece', {'weight': 0.0004589343629148599}),\n",
       " ('Peru', 'Greece', {'weight': 0.0014089322483391298}),\n",
       " ('Peru', 'Greece', {'weight': 0.00022447727175248542}),\n",
       " ('Peru', 'Greece', {'weight': 0.0007436665980359384}),\n",
       " ('Peru', 'Greece', {'weight': 0.0015339260337808743}),\n",
       " ('Peru', 'Greece', {'weight': 0.00026501167658265644}),\n",
       " ('Peru', 'Greece', {'weight': 0.00016192028251684178}),\n",
       " ('Peru', 'Greece', {'weight': 0.0036398451558941627}),\n",
       " ('Peru', 'Greece', {'weight': 6.442840845018282e-05}),\n",
       " ('Peru', 'Greece', {'weight': 0.0015888274321546395}),\n",
       " ('Peru', 'Greece', {'weight': 5.5652686641427285e-05}),\n",
       " ('Peru', 'Greece', {'weight': 4.473086154849806e-05}),\n",
       " ('Peru', 'Greece', {'weight': 6.88072127871135e-05}),\n",
       " ('Peru', 'Greece', {'weight': 0.0005853222514404673}),\n",
       " ('Peru', 'Greece', {'weight': 0.000844839754790429}),\n",
       " ('Peru', 'Greece', {'weight': 0.0016392374473576652}),\n",
       " ('Peru', 'Greece', {'weight': 0.011752224626506281}),\n",
       " ('Peru', 'Greece', {'weight': 0.01763074987665681}),\n",
       " ('Peru', 'Greece', {'weight': 0.0008067830232464898}),\n",
       " ('Peru', 'Greece', {'weight': 0.00020588849366236223}),\n",
       " ('Peru', 'Greece', {'weight': 0.00012656407156852846}),\n",
       " ('Peru', 'Greece', {'weight': 0.00017875113858428733}),\n",
       " ('Peru', 'Greece', {'weight': 5.944775184179509e-05}),\n",
       " ('Peru', 'Greece', {'weight': 0.00027348900903991294}),\n",
       " ('Peru', 'Greece', {'weight': 1}),\n",
       " ('Peru', 'Greece', {'weight': 2.8900859353871982e-05}),\n",
       " ('Peru', 'Greece', {'weight': 0.0024229461435563327}),\n",
       " ('Peru', 'Greece', {'weight': 1.238810810965612e-05}),\n",
       " ('Peru', 'Greece', {'weight': 0.00017941852252893644}),\n",
       " ('Peru', 'Greece', {'weight': 0.00010647050874467828}),\n",
       " ('Peru', 'Greece', {'weight': 0.0005053934534653941}),\n",
       " ('Peru', 'Greece', {'weight': 0.0011095894631113056}),\n",
       " ('Peru', 'Greece', {'weight': 9.988008795908862e-05}),\n",
       " ('Peru', 'Greece', {'weight': 0.0002502082705968868}),\n",
       " ('Peru', 'Greece', {'weight': 0.00026045963531093943}),\n",
       " ('Peru', 'Greece', {'weight': 0.0006755179895243708}),\n",
       " ('Peru', 'Greece', {'weight': 0.0012289748496893903}),\n",
       " ('Peru', 'Greece', {'weight': 0.0009998529795762084}),\n",
       " ('Peru', 'Greece', {'weight': 0.005492362906644844}),\n",
       " ('Peru', 'Greece', {'weight': 0.0011560786305871702}),\n",
       " ('Peru', 'Greece', {'weight': 0.007261327315256843}),\n",
       " ('Peru', 'Greece', {'weight': 0.004845548304486152}),\n",
       " ('Peru', 'Greece', {'weight': 0.0001453174720324392}),\n",
       " ('Peru', 'Greece', {'weight': 0.004332564411030536}),\n",
       " ('Peru', 'Greece', {'weight': 1.96697021387457e-05}),\n",
       " ('Peru', 'Greece', {'weight': 0.00027626036827508845}),\n",
       " ('Peru', 'Greece', {'weight': 1.3931947268286822e-05}),\n",
       " ('Peru', 'Greece', {'weight': 0.000574769930596847}),\n",
       " ('Peru', 'Greece', {'weight': 0.08480400946446714}),\n",
       " ('Peru', 'Greece', {'weight': 0.002431200614861163}),\n",
       " ('Peru', 'Greece', {'weight': 0.002922333189487229}),\n",
       " ('Peru', 'Greece', {'weight': 0.002758171208388138}),\n",
       " ('Peru', 'Greece', {'weight': 0.01190364536364384}),\n",
       " ('Peru', 'Greece', {'weight': 0.000545416257937206}),\n",
       " ('Peru', 'Greece', {'weight': 0.0002829329432774161}),\n",
       " ('Peru', 'Greece', {'weight': 0.004650927298160061}),\n",
       " ('Peru', 'Greece', {'weight': 0.00016080320864214395}),\n",
       " ('Peru', 'Greece', {'weight': 0.0004645513778356406}),\n",
       " ('Peru', 'Greece', {'weight': 1}),\n",
       " ('Peru', 'Argentina', {'weight': 7.39358532292301e-08}),\n",
       " ('Peru', 'Argentina', {'weight': 1.2095890202728892e-07}),\n",
       " ('Peru', 'Argentina', {'weight': 4.435494502112047e-08}),\n",
       " ('Peru', 'Argentina', {'weight': 1.2056834523420533e-07}),\n",
       " ('Peru', 'Argentina', {'weight': 1.9273406322364343e-07}),\n",
       " ('Peru', 'Argentina', {'weight': 4.079850100795242e-07}),\n",
       " ('Peru', 'Argentina', {'weight': 6.168516267022268e-06}),\n",
       " ('Peru', 'Argentina', {'weight': 1.0482930516432456e-07}),\n",
       " ('Peru', 'Argentina', {'weight': 1.0120785663673629e-07}),\n",
       " ('Peru', 'Argentina', {'weight': 1.1312008161428958e-06}),\n",
       " ('Peru', 'Argentina', {'weight': 1.1394158008082435e-06}),\n",
       " ('Peru', 'Argentina', {'weight': 6.238034825793417e-07}),\n",
       " ('Peru', 'Argentina', {'weight': 1.1942060485869856e-07}),\n",
       " ('Peru', 'Argentina', {'weight': 3.3635348035443887e-06}),\n",
       " ...]"
      ]
     },
     "execution_count": 324,
     "metadata": {},
     "output_type": "execute_result"
    }
   ],
   "source": [
    "graph.edges(data=True)"
   ]
  },
  {
   "cell_type": "code",
   "execution_count": 318,
   "metadata": {},
   "outputs": [
    {
     "name": "stdout",
     "output_type": "stream",
     "text": [
      "                            OLS Regression Results                            \n",
      "==============================================================================\n",
      "Dep. Variable:             Offshoring   R-squared:                       0.896\n",
      "Model:                            OLS   Adj. R-squared:                  0.896\n",
      "Method:                 Least Squares   F-statistic:                 2.048e+07\n",
      "Date:                Sun, 22 Apr 2018   Prob (F-statistic):               0.00\n",
      "Time:                        17:37:44   Log-Likelihood:            -9.1514e+06\n",
      "No. Observations:             4758435   AIC:                         1.830e+07\n",
      "Df Residuals:                 4758432   BIC:                         1.830e+07\n",
      "Df Model:                           2                                         \n",
      "Covariance Type:            nonrobust                                         \n",
      "================================================================================\n",
      "                   coef    std err          t      P>|t|      [0.025      0.975]\n",
      "--------------------------------------------------------------------------------\n",
      "const           -4.3796      0.004  -1167.159      0.000      -4.387      -4.372\n",
      "Offshoring_1     0.8883      0.000   4904.680      0.000       0.888       0.889\n",
      "Offshoring_2     0.3271      0.000   1137.373      0.000       0.326       0.328\n",
      "==============================================================================\n",
      "Omnibus:                   438969.843   Durbin-Watson:                   1.430\n",
      "Prob(Omnibus):                  0.000   Jarque-Bera (JB):          1493986.865\n",
      "Skew:                          -0.455   Prob(JB):                         0.00\n",
      "Kurtosis:                       5.590   Cond. No.                         94.6\n",
      "==============================================================================\n",
      "\n",
      "Warnings:\n",
      "[1] Standard Errors assume that the covariance matrix of the errors is correctly specified.\n"
     ]
    }
   ],
   "source": [
    "import statsmodels.api as sm\n",
    "df = data[['Offshoring', 'Offshoring_1', 'Offshoring_2']]\n",
    "df = df[ (df['Offshoring']!=0) & (df['Offshoring_1']!=0) & (df['Offshoring_2']!=0) ]\n",
    "df = df.apply(np.log)\n",
    "#df.dropna(inplace=True)\n",
    "\n",
    "\n",
    "Y, X = df[['Offshoring']] , df[['Offshoring_1', 'Offshoring_2']]\n",
    "X = sm.add_constant(X)\n",
    "model = sm.OLS(Y, X).fit()\n",
    "print(model.summary())\n"
   ]
  },
  {
   "cell_type": "code",
   "execution_count": null,
   "metadata": {
    "collapsed": true
   },
   "outputs": [],
   "source": []
  }
 ],
 "metadata": {
  "kernelspec": {
   "display_name": "Python 3",
   "language": "python",
   "name": "python3"
  },
  "language_info": {
   "codemirror_mode": {
    "name": "ipython",
    "version": 3
   },
   "file_extension": ".py",
   "mimetype": "text/x-python",
   "name": "python",
   "nbconvert_exporter": "python",
   "pygments_lexer": "ipython3",
   "version": "3.6.4"
  }
 },
 "nbformat": 4,
 "nbformat_minor": 2
}
